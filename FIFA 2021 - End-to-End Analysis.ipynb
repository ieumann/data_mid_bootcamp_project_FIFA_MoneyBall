{
 "cells": [
  {
   "cell_type": "markdown",
   "id": "380876bd",
   "metadata": {},
   "source": [
    "1. Problem (case study)\n",
    "Data Description.\n",
    "Goal.\n",
    "2. Cleaning/Wrangling/EDA\n",
    "Change headers names.\n",
    "Deal with NaN values.\n",
    "Categorical Features.\n",
    "Numerical Features.\n",
    "Exploration.\n",
    "3. Processing Data\n",
    "Dealing with outliers.\n",
    "Normalization.\n",
    "Encoding Categorical Data.\n",
    "Splitting into train set and test set.\n",
    "4. Modeling\n",
    "Apply model.\n",
    "5. Model Validation\n",
    "R2.\n",
    "MSE.\n",
    "RMSE.\n",
    "MAE."
   ]
  },
  {
   "cell_type": "code",
   "execution_count": 1,
   "id": "10e9b67a",
   "metadata": {},
   "outputs": [],
   "source": [
    "import pandas as pd\n",
    "import numpy as np\n",
    "import matplotlib.pyplot as plt\n",
    "import scipy.stats as stats\n",
    "import seaborn as sns\n",
    "from sklearn.preprocessing import OneHotEncoder\n",
    "from sklearn.preprocessing import StandardScaler\n",
    "from sklearn.model_selection import train_test_split\n",
    "from sklearn.linear_model import LinearRegression\n",
    "from sklearn.metrics import r2_score, mean_squared_error, mean_absolute_error\n",
    "from scipy.special import inv_boxcox\n",
    "\n",
    "import warnings\n",
    "warnings.filterwarnings('ignore')"
   ]
  },
  {
   "cell_type": "code",
   "execution_count": 2,
   "id": "2904793a",
   "metadata": {},
   "outputs": [
    {
     "data": {
      "text/html": [
       "<div>\n",
       "<style scoped>\n",
       "    .dataframe tbody tr th:only-of-type {\n",
       "        vertical-align: middle;\n",
       "    }\n",
       "\n",
       "    .dataframe tbody tr th {\n",
       "        vertical-align: top;\n",
       "    }\n",
       "\n",
       "    .dataframe thead th {\n",
       "        text-align: right;\n",
       "    }\n",
       "</style>\n",
       "<table border=\"1\" class=\"dataframe\">\n",
       "  <thead>\n",
       "    <tr style=\"text-align: right;\">\n",
       "      <th></th>\n",
       "      <th>ID</th>\n",
       "      <th>Name</th>\n",
       "      <th>Age</th>\n",
       "      <th>OVA</th>\n",
       "      <th>Nationality</th>\n",
       "      <th>Club</th>\n",
       "      <th>BOV</th>\n",
       "      <th>BP</th>\n",
       "      <th>Position</th>\n",
       "      <th>Player Photo</th>\n",
       "      <th>...</th>\n",
       "      <th>CDM</th>\n",
       "      <th>RDM</th>\n",
       "      <th>RWB</th>\n",
       "      <th>LB</th>\n",
       "      <th>LCB</th>\n",
       "      <th>CB</th>\n",
       "      <th>RCB</th>\n",
       "      <th>RB</th>\n",
       "      <th>GK</th>\n",
       "      <th>Gender</th>\n",
       "    </tr>\n",
       "  </thead>\n",
       "  <tbody>\n",
       "    <tr>\n",
       "      <th>283</th>\n",
       "      <td>54051</td>\n",
       "      <td>W. Routledge</td>\n",
       "      <td>35</td>\n",
       "      <td>69</td>\n",
       "      <td>England</td>\n",
       "      <td>Swansea City</td>\n",
       "      <td>69</td>\n",
       "      <td>LM</td>\n",
       "      <td>LM RM ST</td>\n",
       "      <td>https://cdn.sofifa.com/players/054/051/20_120.png</td>\n",
       "      <td>...</td>\n",
       "      <td>55+2</td>\n",
       "      <td>55+2</td>\n",
       "      <td>57+2</td>\n",
       "      <td>54+2</td>\n",
       "      <td>47+2</td>\n",
       "      <td>47+2</td>\n",
       "      <td>47+2</td>\n",
       "      <td>54+2</td>\n",
       "      <td>19+2</td>\n",
       "      <td>Male</td>\n",
       "    </tr>\n",
       "    <tr>\n",
       "      <th>16767</th>\n",
       "      <td>258158</td>\n",
       "      <td>Patxi Dávila</td>\n",
       "      <td>23</td>\n",
       "      <td>59</td>\n",
       "      <td>Spain</td>\n",
       "      <td>UD Logroñés</td>\n",
       "      <td>59</td>\n",
       "      <td>LB</td>\n",
       "      <td>LB</td>\n",
       "      <td>https://cdn.sofifa.com/players/258/158/20_120.png</td>\n",
       "      <td>...</td>\n",
       "      <td>51+2</td>\n",
       "      <td>51+2</td>\n",
       "      <td>56+2</td>\n",
       "      <td>57+2</td>\n",
       "      <td>57+2</td>\n",
       "      <td>57+2</td>\n",
       "      <td>57+2</td>\n",
       "      <td>57+2</td>\n",
       "      <td>15+2</td>\n",
       "      <td>Male</td>\n",
       "    </tr>\n",
       "  </tbody>\n",
       "</table>\n",
       "<p>2 rows × 107 columns</p>\n",
       "</div>"
      ],
      "text/plain": [
       "           ID          Name  Age  OVA Nationality          Club  BOV  BP  \\\n",
       "283     54051  W. Routledge   35   69     England  Swansea City   69  LM   \n",
       "16767  258158  Patxi Dávila   23   59       Spain   UD Logroñés   59  LB   \n",
       "\n",
       "       Position                                       Player Photo  ...   CDM  \\\n",
       "283    LM RM ST  https://cdn.sofifa.com/players/054/051/20_120.png  ...  55+2   \n",
       "16767        LB  https://cdn.sofifa.com/players/258/158/20_120.png  ...  51+2   \n",
       "\n",
       "        RDM   RWB    LB   LCB    CB   RCB    RB    GK Gender  \n",
       "283    55+2  57+2  54+2  47+2  47+2  47+2  54+2  19+2   Male  \n",
       "16767  51+2  56+2  57+2  57+2  57+2  57+2  57+2  15+2   Male  \n",
       "\n",
       "[2 rows x 107 columns]"
      ]
     },
     "execution_count": 2,
     "metadata": {},
     "output_type": "execute_result"
    }
   ],
   "source": [
    "df = pd.read_csv('fifa21_male2.csv', sep=\",\")\n",
    "df.sample(2)"
   ]
  },
  {
   "cell_type": "markdown",
   "id": "e0b5c4dd",
   "metadata": {},
   "source": [
    "### Goal: Rank forward players by market value"
   ]
  },
  {
   "cell_type": "markdown",
   "id": "a6d4314a",
   "metadata": {},
   "source": [
    "### 1. Data Description"
   ]
  },
  {
   "cell_type": "markdown",
   "id": "6deeb6a9",
   "metadata": {},
   "source": [
    "##### I check the basic information of the dataset to see the data types, number of missing values, and basic statistics of the numerical features."
   ]
  },
  {
   "cell_type": "code",
   "execution_count": 3,
   "id": "d3161bb3",
   "metadata": {},
   "outputs": [],
   "source": [
    "pd.set_option('display.max_columns', None) # To display all 107 columns."
   ]
  },
  {
   "cell_type": "code",
   "execution_count": 4,
   "id": "fc0e6919",
   "metadata": {},
   "outputs": [
    {
     "name": "stdout",
     "output_type": "stream",
     "text": [
      "<class 'pandas.core.frame.DataFrame'>\n",
      "RangeIndex: 17125 entries, 0 to 17124\n",
      "Columns: 107 entries, ID to Gender\n",
      "dtypes: float64(10), int64(45), object(52)\n",
      "memory usage: 14.0+ MB\n"
     ]
    }
   ],
   "source": [
    "df.info()"
   ]
  },
  {
   "cell_type": "code",
   "execution_count": 5,
   "id": "fe4a9f08",
   "metadata": {},
   "outputs": [
    {
     "data": {
      "text/plain": [
       "17125"
      ]
     },
     "execution_count": 5,
     "metadata": {},
     "output_type": "execute_result"
    }
   ],
   "source": [
    "len(df)"
   ]
  },
  {
   "cell_type": "markdown",
   "id": "8db28c11",
   "metadata": {},
   "source": [
    "### 2. Cleaning/Wrangling/EDA"
   ]
  },
  {
   "cell_type": "markdown",
   "id": "5088129a",
   "metadata": {},
   "source": [
    "##### I check for and handle duplicates, any missing values, and wrong formats in the dataset."
   ]
  },
  {
   "cell_type": "code",
   "execution_count": 6,
   "id": "c57f77a5",
   "metadata": {},
   "outputs": [
    {
     "data": {
      "text/plain": [
       "17125"
      ]
     },
     "execution_count": 6,
     "metadata": {},
     "output_type": "execute_result"
    }
   ],
   "source": [
    "df.ID.nunique() # To check for duplicates of players (IDs). There's none."
   ]
  },
  {
   "cell_type": "code",
   "execution_count": 7,
   "id": "e9e5f936",
   "metadata": {},
   "outputs": [
    {
     "data": {
      "text/html": [
       "<div>\n",
       "<style scoped>\n",
       "    .dataframe tbody tr th:only-of-type {\n",
       "        vertical-align: middle;\n",
       "    }\n",
       "\n",
       "    .dataframe tbody tr th {\n",
       "        vertical-align: top;\n",
       "    }\n",
       "\n",
       "    .dataframe thead th {\n",
       "        text-align: right;\n",
       "    }\n",
       "</style>\n",
       "<table border=\"1\" class=\"dataframe\">\n",
       "  <thead>\n",
       "    <tr style=\"text-align: right;\">\n",
       "      <th></th>\n",
       "      <th>ID</th>\n",
       "      <th>Name</th>\n",
       "      <th>Age</th>\n",
       "      <th>OVA</th>\n",
       "      <th>Nationality</th>\n",
       "      <th>Club</th>\n",
       "      <th>BOV</th>\n",
       "      <th>BP</th>\n",
       "      <th>Position</th>\n",
       "      <th>Player_Photo</th>\n",
       "      <th>Club_Logo</th>\n",
       "      <th>Flag_Photo</th>\n",
       "      <th>POT</th>\n",
       "      <th>Team_&amp;_Contract</th>\n",
       "      <th>Height</th>\n",
       "      <th>Weight</th>\n",
       "      <th>foot</th>\n",
       "      <th>Growth</th>\n",
       "      <th>Joined</th>\n",
       "      <th>Loan_Date_End</th>\n",
       "      <th>Value</th>\n",
       "      <th>Wage</th>\n",
       "      <th>Release_Clause</th>\n",
       "      <th>Contract</th>\n",
       "      <th>Attacking</th>\n",
       "      <th>Crossing</th>\n",
       "      <th>Finishing</th>\n",
       "      <th>Heading_Accuracy</th>\n",
       "      <th>Short_Passing</th>\n",
       "      <th>Volleys</th>\n",
       "      <th>Skill</th>\n",
       "      <th>Dribbling</th>\n",
       "      <th>Curve</th>\n",
       "      <th>FK_Accuracy</th>\n",
       "      <th>Long_Passing</th>\n",
       "      <th>Ball_Control</th>\n",
       "      <th>Movement</th>\n",
       "      <th>Acceleration</th>\n",
       "      <th>Sprint_Speed</th>\n",
       "      <th>Agility</th>\n",
       "      <th>Reactions</th>\n",
       "      <th>Balance</th>\n",
       "      <th>Power</th>\n",
       "      <th>Shot_Power</th>\n",
       "      <th>Jumping</th>\n",
       "      <th>Stamina</th>\n",
       "      <th>Strength</th>\n",
       "      <th>Long_Shots</th>\n",
       "      <th>Mentality</th>\n",
       "      <th>Aggression</th>\n",
       "      <th>Interceptions</th>\n",
       "      <th>Positioning</th>\n",
       "      <th>Vision</th>\n",
       "      <th>Penalties</th>\n",
       "      <th>Composure</th>\n",
       "      <th>Defending</th>\n",
       "      <th>Marking</th>\n",
       "      <th>Standing_Tackle</th>\n",
       "      <th>Sliding_Tackle</th>\n",
       "      <th>Goalkeeping</th>\n",
       "      <th>GK_Diving</th>\n",
       "      <th>GK_Handling</th>\n",
       "      <th>GK_Kicking</th>\n",
       "      <th>GK_Positioning</th>\n",
       "      <th>GK_Reflexes</th>\n",
       "      <th>Total_Stats</th>\n",
       "      <th>Base_Stats</th>\n",
       "      <th>W/F</th>\n",
       "      <th>SM</th>\n",
       "      <th>A/W</th>\n",
       "      <th>D/W</th>\n",
       "      <th>IR</th>\n",
       "      <th>PAC</th>\n",
       "      <th>SHO</th>\n",
       "      <th>PAS</th>\n",
       "      <th>DRI</th>\n",
       "      <th>DEF</th>\n",
       "      <th>PHY</th>\n",
       "      <th>Hits</th>\n",
       "      <th>LS</th>\n",
       "      <th>ST</th>\n",
       "      <th>RS</th>\n",
       "      <th>LW</th>\n",
       "      <th>LF</th>\n",
       "      <th>CF</th>\n",
       "      <th>RF</th>\n",
       "      <th>RW</th>\n",
       "      <th>LAM</th>\n",
       "      <th>CAM</th>\n",
       "      <th>RAM</th>\n",
       "      <th>LM</th>\n",
       "      <th>LCM</th>\n",
       "      <th>CM</th>\n",
       "      <th>RCM</th>\n",
       "      <th>RM</th>\n",
       "      <th>LWB</th>\n",
       "      <th>LDM</th>\n",
       "      <th>CDM</th>\n",
       "      <th>RDM</th>\n",
       "      <th>RWB</th>\n",
       "      <th>LB</th>\n",
       "      <th>LCB</th>\n",
       "      <th>CB</th>\n",
       "      <th>RCB</th>\n",
       "      <th>RB</th>\n",
       "      <th>GK</th>\n",
       "      <th>Gender</th>\n",
       "    </tr>\n",
       "  </thead>\n",
       "  <tbody>\n",
       "    <tr>\n",
       "      <th>0</th>\n",
       "      <td>2</td>\n",
       "      <td>G. Pasquale</td>\n",
       "      <td>33</td>\n",
       "      <td>69</td>\n",
       "      <td>Italy</td>\n",
       "      <td>Udinese</td>\n",
       "      <td>71</td>\n",
       "      <td>LWB</td>\n",
       "      <td>LM</td>\n",
       "      <td>https://cdn.sofifa.com/players/000/002/16_120.png</td>\n",
       "      <td>https://cdn.sofifa.com/teams/55/light_60.png</td>\n",
       "      <td>https://cdn.sofifa.com/flags/it.png</td>\n",
       "      <td>69</td>\n",
       "      <td>Udinese 2008 ~ 2016</td>\n",
       "      <td>6'0\"</td>\n",
       "      <td>181lbs</td>\n",
       "      <td>Left</td>\n",
       "      <td>0</td>\n",
       "      <td>Jul 1, 2008</td>\n",
       "      <td>NaN</td>\n",
       "      <td>€625K</td>\n",
       "      <td>€7K</td>\n",
       "      <td>€0</td>\n",
       "      <td>2008 ~ 2016</td>\n",
       "      <td>313</td>\n",
       "      <td>75</td>\n",
       "      <td>50</td>\n",
       "      <td>59</td>\n",
       "      <td>71</td>\n",
       "      <td>58.0</td>\n",
       "      <td>338</td>\n",
       "      <td>73</td>\n",
       "      <td>65.0</td>\n",
       "      <td>60</td>\n",
       "      <td>69</td>\n",
       "      <td>71</td>\n",
       "      <td>347</td>\n",
       "      <td>68</td>\n",
       "      <td>74</td>\n",
       "      <td>68.0</td>\n",
       "      <td>69</td>\n",
       "      <td>68.0</td>\n",
       "      <td>347</td>\n",
       "      <td>74</td>\n",
       "      <td>68.0</td>\n",
       "      <td>69</td>\n",
       "      <td>68</td>\n",
       "      <td>68</td>\n",
       "      <td>320</td>\n",
       "      <td>72</td>\n",
       "      <td>69.0</td>\n",
       "      <td>63.0</td>\n",
       "      <td>66.0</td>\n",
       "      <td>50</td>\n",
       "      <td>NaN</td>\n",
       "      <td>208</td>\n",
       "      <td>70</td>\n",
       "      <td>69</td>\n",
       "      <td>69.0</td>\n",
       "      <td>56</td>\n",
       "      <td>14</td>\n",
       "      <td>5</td>\n",
       "      <td>15</td>\n",
       "      <td>10</td>\n",
       "      <td>12</td>\n",
       "      <td>1929</td>\n",
       "      <td>408</td>\n",
       "      <td>3 ★</td>\n",
       "      <td>2★</td>\n",
       "      <td>Medium</td>\n",
       "      <td>High</td>\n",
       "      <td>2 ★</td>\n",
       "      <td>71</td>\n",
       "      <td>59</td>\n",
       "      <td>70</td>\n",
       "      <td>71</td>\n",
       "      <td>68</td>\n",
       "      <td>69</td>\n",
       "      <td>4</td>\n",
       "      <td>65+0</td>\n",
       "      <td>65+0</td>\n",
       "      <td>65+0</td>\n",
       "      <td>68+0</td>\n",
       "      <td>67+0</td>\n",
       "      <td>67+0</td>\n",
       "      <td>67+0</td>\n",
       "      <td>68+0</td>\n",
       "      <td>68+0</td>\n",
       "      <td>68+0</td>\n",
       "      <td>68+0</td>\n",
       "      <td>69+0</td>\n",
       "      <td>69+0</td>\n",
       "      <td>69+0</td>\n",
       "      <td>69+0</td>\n",
       "      <td>69+0</td>\n",
       "      <td>71+-2</td>\n",
       "      <td>70+-1</td>\n",
       "      <td>70+-1</td>\n",
       "      <td>70+-1</td>\n",
       "      <td>71+-2</td>\n",
       "      <td>70+-1</td>\n",
       "      <td>69+0</td>\n",
       "      <td>69+0</td>\n",
       "      <td>69+0</td>\n",
       "      <td>70+-1</td>\n",
       "      <td>17+0</td>\n",
       "      <td>Male</td>\n",
       "    </tr>\n",
       "  </tbody>\n",
       "</table>\n",
       "</div>"
      ],
      "text/plain": [
       "   ID         Name  Age  OVA Nationality     Club  BOV   BP Position  \\\n",
       "0   2  G. Pasquale   33   69       Italy  Udinese   71  LWB       LM   \n",
       "\n",
       "                                        Player_Photo  \\\n",
       "0  https://cdn.sofifa.com/players/000/002/16_120.png   \n",
       "\n",
       "                                      Club_Logo  \\\n",
       "0  https://cdn.sofifa.com/teams/55/light_60.png   \n",
       "\n",
       "                            Flag_Photo  POT      Team_&_Contract Height  \\\n",
       "0  https://cdn.sofifa.com/flags/it.png   69  Udinese 2008 ~ 2016   6'0\"   \n",
       "\n",
       "   Weight  foot  Growth       Joined Loan_Date_End  Value Wage Release_Clause  \\\n",
       "0  181lbs  Left       0  Jul 1, 2008           NaN  €625K  €7K             €0   \n",
       "\n",
       "      Contract  Attacking  Crossing  Finishing  Heading_Accuracy  \\\n",
       "0  2008 ~ 2016        313        75         50                59   \n",
       "\n",
       "   Short_Passing  Volleys  Skill  Dribbling  Curve  FK_Accuracy  Long_Passing  \\\n",
       "0             71     58.0    338         73   65.0           60            69   \n",
       "\n",
       "   Ball_Control  Movement  Acceleration  Sprint_Speed  Agility  Reactions  \\\n",
       "0            71       347            68            74     68.0         69   \n",
       "\n",
       "   Balance  Power  Shot_Power  Jumping  Stamina  Strength  Long_Shots  \\\n",
       "0     68.0    347          74     68.0       69        68          68   \n",
       "\n",
       "   Mentality  Aggression  Interceptions  Positioning  Vision  Penalties  \\\n",
       "0        320          72           69.0         63.0    66.0         50   \n",
       "\n",
       "   Composure  Defending  Marking  Standing_Tackle  Sliding_Tackle  \\\n",
       "0        NaN        208       70               69            69.0   \n",
       "\n",
       "   Goalkeeping  GK_Diving  GK_Handling  GK_Kicking  GK_Positioning  \\\n",
       "0           56         14            5          15              10   \n",
       "\n",
       "   GK_Reflexes  Total_Stats  Base_Stats  W/F  SM     A/W   D/W   IR  PAC  SHO  \\\n",
       "0           12         1929         408  3 ★  2★  Medium  High  2 ★   71   59   \n",
       "\n",
       "   PAS  DRI  DEF  PHY Hits    LS    ST    RS    LW    LF    CF    RF    RW  \\\n",
       "0   70   71   68   69    4  65+0  65+0  65+0  68+0  67+0  67+0  67+0  68+0   \n",
       "\n",
       "    LAM   CAM   RAM    LM   LCM    CM   RCM    RM    LWB    LDM    CDM    RDM  \\\n",
       "0  68+0  68+0  68+0  69+0  69+0  69+0  69+0  69+0  71+-2  70+-1  70+-1  70+-1   \n",
       "\n",
       "     RWB     LB   LCB    CB   RCB     RB    GK Gender  \n",
       "0  71+-2  70+-1  69+0  69+0  69+0  70+-1  17+0   Male  "
      ]
     },
     "execution_count": 7,
     "metadata": {},
     "output_type": "execute_result"
    }
   ],
   "source": [
    "df.columns = df.columns.str.replace(' ', '_') # Transforming header names.\n",
    "df.head(1)"
   ]
  },
  {
   "cell_type": "code",
   "execution_count": 8,
   "id": "3d8d4ee9",
   "metadata": {},
   "outputs": [],
   "source": [
    "df = df.set_index('ID') # To set the ID, which is unique as the index."
   ]
  },
  {
   "cell_type": "code",
   "execution_count": 9,
   "id": "c22d3880",
   "metadata": {},
   "outputs": [
    {
     "name": "stdout",
     "output_type": "stream",
     "text": [
      "Columns with missing values:\n",
      "Club                 23\n",
      "Position            413\n",
      "Club_Logo            23\n",
      "Joined               58\n",
      "Loan_Date_End     16215\n",
      "Volleys              58\n",
      "Curve                58\n",
      "Agility              58\n",
      "Balance              58\n",
      "Jumping              58\n",
      "Interceptions         7\n",
      "Positioning           7\n",
      "Vision               58\n",
      "Composure           423\n",
      "Sliding_Tackle       58\n",
      "A/W                  89\n",
      "D/W                  89\n",
      "dtype: int64\n"
     ]
    }
   ],
   "source": [
    "missing_values = df.isna().sum() # To check for missing values displaying only the columns that have any.\n",
    "missing_values = missing_values[missing_values > 0]\n",
    "print(\"Columns with missing values:\")\n",
    "print(missing_values)"
   ]
  },
  {
   "cell_type": "code",
   "execution_count": 10,
   "id": "c9011168",
   "metadata": {},
   "outputs": [],
   "source": [
    "df = df.dropna(subset=['Club', 'Position']) # To drop the rows with NaNs in these columns, which I will consider for my model."
   ]
  },
  {
   "cell_type": "code",
   "execution_count": 11,
   "id": "71b23fff",
   "metadata": {},
   "outputs": [
    {
     "data": {
      "text/plain": [
       "0"
      ]
     },
     "execution_count": 11,
     "metadata": {},
     "output_type": "execute_result"
    }
   ],
   "source": [
    "df['Position'].isna().sum()"
   ]
  },
  {
   "cell_type": "code",
   "execution_count": 12,
   "id": "e2e535f6",
   "metadata": {},
   "outputs": [
    {
     "data": {
      "text/plain": [
       "array(['LM', 'CM CAM CDM', 'CAM RM RW LM', 'CM CAM', 'RW RM', 'CM CDM',\n",
       "       'LM CM CAM', 'RB CB RWB', 'CDM CM RB', 'ST', 'GK', 'CDM LB LM',\n",
       "       'RM RB CM', 'ST CAM', 'CB', 'RM', 'CF ST', 'CAM', 'CDM CM', 'LB',\n",
       "       'LM ST', 'CM RM RB', 'LM CAM', 'CDM CM RM', 'CM', 'RB', 'ST CF',\n",
       "       'CM CDM CAM', 'RW', 'CM CDM LM CAM', 'LWB LM LB LW', 'CF',\n",
       "       'CAM CM RM', 'RM CAM', 'LM CAM RM', 'ST CF RW', 'CDM CM RM RWB',\n",
       "       'CM CDM ST', 'CAM CM', 'RM LM', 'CAM LM', 'ST LW', 'CDM',\n",
       "       'CF CAM ST', 'CB CDM', 'CAM ST', 'CAM LB', 'CM CAM RM CDM',\n",
       "       'CAM CF RW', 'CAM RW', 'LM RM', 'CAM LW', 'CF ST CAM', 'CB LB',\n",
       "       'CAM ST CM', 'RM LM CDM', 'LM RM ST', 'LB LM CM', 'RM RW',\n",
       "       'CDM CAM', 'CAM LM RM', 'LW LM ST', 'CF ST RW CAM', 'CAM RM LM ST',\n",
       "       'ST CAM LM', 'ST CF CAM', 'RB CDM CM', 'RB CM', 'CDM CB', 'CAM CF',\n",
       "       'CB RB', 'LW CAM', 'ST RW', 'ST LM', 'CM RB LB', 'LB LWB', 'LW RW',\n",
       "       'RB LB', 'CAM LM CM', 'ST RW CAM RM', 'CM RM', 'LW RM CF',\n",
       "       'CDM CM CB', 'CM RB', 'ST CAM CF', 'CAM CF ST', 'LM CM',\n",
       "       'CDM CM CAM', 'LB LM', 'LM RM CAM', 'CM CAM RW RM', 'RB RM',\n",
       "       'CM LM CDM', 'CAM RM', 'CM LM CAM', 'CAM RW ST', 'RB RWB',\n",
       "       'LM RM RB', 'CAM RM LM', 'CAM RM CM', 'RM CM', 'CM CDM CB',\n",
       "       'CF LM LW', 'LW RW ST', 'RM CAM LM', 'RW ST CF', 'RM ST',\n",
       "       'LM ST RM', 'ST RW LW', 'ST LM CAM', 'ST LM LW', 'CAM CF LW',\n",
       "       'CAM ST CF', 'CAM CDM', 'CDM RB CM', 'LB RB CB', 'LM LB LWB',\n",
       "       'RW CAM', 'LB RB', 'CAM LB LM', 'ST CF LW', 'CDM CB CM',\n",
       "       'CDM LWB LB', 'CAM CM CF', 'CAM CM LW', 'RB RWB CM', 'RM RW LM',\n",
       "       'LB LW', 'RM LM ST', 'LWB RWB', 'CM LB', 'LM LB', 'RW ST', 'LB CB',\n",
       "       'CB LB RB', 'RB CDM', 'CB RB LB', 'RM LB', 'CM CAM LM',\n",
       "       'ST CAM CM', 'LB LWB LM', 'RB CB', 'RW LW CAM', 'RB RWB RM',\n",
       "       'RM LW', 'RW LW', 'LWB LB', 'RM RB', 'ST CAM RW', 'RW LB',\n",
       "       'CM CDM LM', 'LM LW ST', 'LW', 'RB RM CM', 'RM LM CAM', 'RM RWB',\n",
       "       'LB CB LM', 'ST RB RM', 'CF CM', 'CAM RM ST', 'ST LW CAM',\n",
       "       'CM LW ST', 'LW CF ST', 'RM ST LM', 'CAM RM RW', 'RWB RB',\n",
       "       'RM CAM ST', 'LM CAM CM CF', 'CAM ST LW', 'CM CAM RM', 'LWB CB',\n",
       "       'LM RB LB', 'RM CM CAM', 'RM RB LB', 'LM LB RB', 'LB CM',\n",
       "       'LM RWB RM', 'CM LM RM', 'RB RM CB', 'CM LM', 'CM CF', 'RB LB RM',\n",
       "       'ST RM', 'CF CAM RW', 'LW CAM LM', 'ST CAM LW', 'LWB CM',\n",
       "       'RM LM CAM RW', 'LM CAM CM', 'RWB CAM', 'RW LW RM', 'CM CAM RW',\n",
       "       'CB CDM LB', 'LM LW', 'RB LB CDM', 'ST LW LM', 'CAM ST LM',\n",
       "       'LB LWB CB', 'LW ST RW', 'RW RM LM', 'RM RW LW LM', 'LM LW RW',\n",
       "       'CAM LM ST', 'LB CDM CM CB', 'LW LM', 'CAM CM CDM', 'LW ST',\n",
       "       'RM CF LM', 'CM CDM RM', 'CB RB CM', 'CDM CM LB', 'RM RW CM',\n",
       "       'CB CDM CM', 'LB CDM', 'ST RM LM', 'LM LW RM', 'RB RM RW',\n",
       "       'CAM CDM CM', 'CB RB RWB', 'CDM RB LB', 'CB ST', 'CF RW LW',\n",
       "       'RM CM CDM', 'RB LB CB', 'RM ST RW', 'RM LM RW', 'LM RM CM',\n",
       "       'CM LW', 'RM RW CAM', 'RB RM RWB', 'LM RM LWB', 'CF ST LM',\n",
       "       'CM RB LM', 'ST LM RM', 'LW CF', 'CAM RM CF', 'RM LWB',\n",
       "       'RM ST CAM', 'CAM CF CM', 'RWB CM RM', 'RB LB RWB', 'ST LW RW',\n",
       "       'ST CB', 'CDM RB', 'CB LWB', 'LW ST LM', 'LM CAM ST', 'CAM CM LM',\n",
       "       'RW CM LW', 'CB LB LWB', 'RWB', 'CAM ST RW', 'CM RM LM',\n",
       "       'CF LM CAM', 'CAM LW CM', 'CM CDM RB', 'LM RM LW', 'RM RW ST',\n",
       "       'LW CAM RW', 'LW LM LB', 'LB LWB RB', 'RM RWB LM', 'CB RWB',\n",
       "       'CM LM LB', 'ST CF LM', 'RB RW', 'CF ST RW', 'LM RW LW',\n",
       "       'CM CF CAM', 'RW LM', 'LB LM CB', 'LWB LM RM', 'LM RW',\n",
       "       'RB RWB CB', 'CM RM LW', 'CAM RM CM ST', 'LM LB CDM', 'LB CB RB',\n",
       "       'LM RM RW', 'LW CM', 'LWB LM', 'RB CB RM', 'LW LB CAM', 'RWB CM',\n",
       "       'CM LWB', 'CM CB CDM', 'CF CAM CM', 'LB LM LWB', 'CAM LW LM',\n",
       "       'CAM LM LB', 'RM LB RB', 'LW LM CAM', 'RM CAM RW', 'LW RW CAM',\n",
       "       'LW RW LM', 'RB RM LB', 'RWB RM', 'RM RB LM', 'LM RW RM',\n",
       "       'LM LB CM', 'CF LM', 'CAM RW CM', 'RW RB RM', 'CDM CAM CM', 'LWB',\n",
       "       'CAM CM RW', 'CF CAM LW', 'RM RWB RB', 'LW LWB RWB', 'LB CB LWB',\n",
       "       'ST RM RW', 'CF CAM', 'RM LM CM', 'CM ST', 'LM CF', 'CM CDM LW',\n",
       "       'ACB', 'CF CAM LM', 'CF LW CAM', 'CB RWB RB', 'RWB RM LWB',\n",
       "       'CB CM', 'RW LM ST', 'RB CB LB', 'RM CAM CM', 'RW RM CAM',\n",
       "       'RM LM RWB', 'LM CM LB', 'RM CF', 'CM RM CDM', 'CF LW',\n",
       "       'CB LB CDM', 'LB LM LW', 'CAM CM ST', 'RW ST LW', 'LB LM RB',\n",
       "       'RM LM CF', 'CAM LW ST', 'CDM RB CB', 'LW CAM CF', 'RM CM LM',\n",
       "       'RM LM LWB', 'RWB RB LWB', 'LB LWB CDM', 'LB RB RM', 'RW RM LW',\n",
       "       'CM RM CAM', 'RWB RM RB', 'LM LW CAM', 'CB CDM RB', 'LM CF RM',\n",
       "       'LM RM CF', 'LB CM RB', 'RWB RB RM', 'LM LW RM RW', 'ST RW CF',\n",
       "       'CAM LM CF', 'LW CF LM', 'CB RB CDM', 'RWB RB LB', 'CAM RW RM',\n",
       "       'ST RM CAM', 'RM LW CAM', 'CM CAM ST', 'RWB RW', 'CAM RW LW',\n",
       "       'LB CM LM', 'CM RW CAM', 'CAM ST RM', 'CAM LM LW', 'RW RM CF',\n",
       "       'ST RW CAM', 'LW RW CM', 'CM RW ST', 'LB LW CM', 'ST RW RM',\n",
       "       'LWB LB LM', 'CB RB RM', 'LM ST LW', 'CB CM CDM', 'ST CAM RM',\n",
       "       'LW CAM CM', 'CM CAM LB', 'RM RW RB', 'RM CM ST', 'CM RW',\n",
       "       'RM RB ST', 'RM CAM RB', 'RB CB CDM', 'ST RM CF', 'LW LB LM',\n",
       "       'CM CB', 'CDM LB', 'LM LWB', 'CM RWB', 'ST LM RB', 'ST CB CDM',\n",
       "       'ST CM CAM', 'LB RB RWB', 'RM ST LW', 'RB CM CAM', 'CAM LM LWB LB',\n",
       "       'LM CM RM', 'CM RW LW', 'LW LB', 'RB LM RM', 'LB CDM CB',\n",
       "       'LM ST CAM', 'RW LW CF', 'RM RWB ST', 'RW LW LM', 'RB RWB LB',\n",
       "       'LWB LB CB', 'CM CF RM', 'LM ST LB', 'LB RM', 'RW ST RM',\n",
       "       'LB RB LM', 'RB CM RWB', 'RB RWB RW', 'RW CF', 'CM ST CDM',\n",
       "       'CF RM RW', 'LM RM LB', 'LB RB CM', 'RM RB CB', 'RM LM LW',\n",
       "       'RM LM RW ST', 'CDM CM LM', 'RM CAM CF', 'RW LWB RM', 'ST RM RB',\n",
       "       'LWB LM CM', 'CAM CM LM RM', 'RB CM RM', 'LW RW CF', 'RW RWB',\n",
       "       'RW ST CAM', 'LM LB LW', 'CAM RB', 'RM RW CF', 'LM CAM LW',\n",
       "       'CM LW LM', 'RW CM', 'CF LW ST', 'RW RM RB', 'LWB RM LB',\n",
       "       'RW LWB LW', 'RM RW LW', 'ST RM LW', 'CDM CM RWB', 'CF LM RM',\n",
       "       'ST CF LM CAM', 'ST LM CF', 'LWB LW', 'CAM LW RW', 'RW LW ST',\n",
       "       'LB RB CDM', 'LM CAM LB', 'RW CAM CM', 'RW CAM RM', 'CB LM',\n",
       "       'LB CM LW', 'ST LM RW', 'LW CAM RW LM', 'RM LM RB', 'CM RM RWB',\n",
       "       'ST LW LWB', 'LM CM RW', 'CAM LM RW', 'CAM CF RM', 'LB LM RM',\n",
       "       'CDM LB CM', 'LW ST CAM', 'IVST RM CF', 'ST LW RM', 'ST RM RWB',\n",
       "       'LB LW RW', 'LM CF ST', 'CM CDM LB', 'LM CAM CF', 'CDM CB RB',\n",
       "       'RB CM LB', 'RW LW RWB', 'CM RM RW', 'RM LM RW LW', 'LW LM CF',\n",
       "       'CM CAM LW', 'LW ST CM', 'RM CM RB', 'CAM CF LM', 'RW CM CAM',\n",
       "       'CF ST LW', 'CAM RW LM', 'RB RW LB', 'CDM RM RB', 'LM LWB ST',\n",
       "       'RM RB CAM', 'LM LW LB', 'LW RW RM', 'CM RM ST', 'LW CAM ST',\n",
       "       'CAM CDM LM', 'CM LW CAM', 'RWB RB CB', 'LM LWB LB', 'ND LB RB',\n",
       "       'LM ST CM', 'LM ST RW', 'CAM RWB CM', 'CF LW RW', 'RM LW RW',\n",
       "       'RM RB RWB', 'LB CM ST', 'RB CDM RM', 'CM LB LM', 'RM ST LM RW',\n",
       "       'GK RB', 'CAM RM RB', 'LB LM CAM', 'CM CAM CF', 'LW RM RW',\n",
       "       'CAM RM LW', 'CM LM RW', 'CM RB CDM', 'RM ST CF', 'RM LW ST',\n",
       "       'LM CDM', 'CDM CB RM', 'CB RWB RM', 'LM LB RM', 'LB CAM',\n",
       "       'CF ST CM', 'LM CF CAM', 'CDM RM', 'CF CM LM', 'CF RM', 'RM CF ST',\n",
       "       'CF ST RM', 'CM LM ST', 'CDM RWB', 'LM CAM CDM', 'CDM CAM LM',\n",
       "       'ST CB RB', 'LW LM RM', 'RW CF CAM', 'RB CM CDM', 'CB RB ST',\n",
       "       'RWB LWB', 'LWB LM RB', 'RB LWB', 'RW LM LW', 'CM LM LW',\n",
       "       'RM CF CAM', 'LM CM CDM', 'RM LM LB', 'RB RWB LWB', 'CDM CM RW',\n",
       "       'CF RW', 'LWB LM RWB', 'RW RB', 'RB RM LM', 'RB CM CB',\n",
       "       'CAM RW CF', 'LB CB CDM', 'ST CF RM', 'RW RM ST', 'RM RWB CAM',\n",
       "       'ST LW CF', 'CAM LW RW CM', 'CB CAM', 'LM LW CF', 'RW CAM LW',\n",
       "       'ST CM', 'RW RB LB', 'CB ST CAM', 'LW CF RW', 'LM LB CF',\n",
       "       'RB RM ST', 'CM RB RM', 'LWB LM LB', 'RB RWB CDM', 'RW CAM ST',\n",
       "       'CDM CB LB', 'LW CAM RM', 'RM CDM', 'RWB ST', 'LB LWB CM',\n",
       "       'LM LWB CB', 'ST RW LM', 'CM CAM RB', 'RB LM LB', 'RB RM CDM',\n",
       "       'LB RB LWB', 'LM ST CF', 'LB LWB LW', 'LM LWB RW', 'IILB',\n",
       "       'LB LW LM', 'CM LM CB', 'CDM LB CB', 'CAM LW CF', 'RW LM CAM',\n",
       "       'CDM LM', 'RWB LM', 'RW LW RB', 'CDM RB RM', 'RWB CB LWB',\n",
       "       'RB RM CAM', 'RWB CDM', 'CB RM RB', 'LM RM CB', 'RW CF LW',\n",
       "       'RB ST CB', 'RB LM', 'LW LWB', 'RW CAM LM', 'CF RM ST', 'RWB CB',\n",
       "       'IIRM', 'LB LM CDM'], dtype=object)"
      ]
     },
     "execution_count": 12,
     "metadata": {},
     "output_type": "execute_result"
    }
   ],
   "source": [
    "df['Position'].unique()"
   ]
  },
  {
   "cell_type": "code",
   "execution_count": 13,
   "id": "23746ee6",
   "metadata": {},
   "outputs": [],
   "source": [
    "# I filter the dataset to include only players that play forward positions.\n",
    "forward_positions = ['ST', 'CF', 'RW', 'LW'] \n",
    "exclude_positions = ['LWB', 'RWB']\n",
    "df_forward = df[df['Position'].isin(forward_positions) & ~df['Position'].isin(exclude_positions)]"
   ]
  },
  {
   "cell_type": "code",
   "execution_count": 14,
   "id": "a743c210",
   "metadata": {},
   "outputs": [
    {
     "data": {
      "text/plain": [
       "2031"
      ]
     },
     "execution_count": 14,
     "metadata": {},
     "output_type": "execute_result"
    }
   ],
   "source": [
    "len(df_forward)"
   ]
  },
  {
   "cell_type": "code",
   "execution_count": 15,
   "id": "6e9a34d3",
   "metadata": {},
   "outputs": [
    {
     "data": {
      "text/plain": [
       "array(['ST', 'RW', 'CF', 'LW'], dtype=object)"
      ]
     },
     "execution_count": 15,
     "metadata": {},
     "output_type": "execute_result"
    }
   ],
   "source": [
    "df_forward.Position.unique()"
   ]
  },
  {
   "cell_type": "code",
   "execution_count": 16,
   "id": "7543e207",
   "metadata": {},
   "outputs": [],
   "source": [
    "# Some numericals are considered categoricals.\n",
    "def currency_string_to_int(currency_string): # To remove the currency symbol from the string and convert to an int.\n",
    "    currency_string = currency_string.replace('€', '').replace(',', '')\n",
    "    if currency_string[-1] == 'M':\n",
    "        return int(float(currency_string[:-1]) * 1000000)\n",
    "    elif currency_string[-1] == 'K':\n",
    "        return int(float(currency_string[:-1]) * 1000)\n",
    "    elif currency_string.isdigit():\n",
    "        return int(currency_string)\n",
    "    else:\n",
    "        return float('nan')\n",
    "    \n",
    "df_forward['Value'] = df_forward['Value'].apply(currency_string_to_int) # For the 'Value' column."
   ]
  },
  {
   "cell_type": "code",
   "execution_count": 17,
   "id": "9f48b322",
   "metadata": {},
   "outputs": [],
   "source": [
    "df_forward['Wage'] = df_forward['Wage'].apply(currency_string_to_int) # And for the 'Wage' column."
   ]
  },
  {
   "cell_type": "code",
   "execution_count": 18,
   "id": "b4d0b676",
   "metadata": {},
   "outputs": [
    {
     "data": {
      "text/plain": [
       "array([ 10000,  15000,      0,   6000,  45000,   5000,  40000,  20000,\n",
       "        80000,   2000,  19000,    500,  49000,   8000,  25000,  33000,\n",
       "        30000,  27000,  35000,    550,  41000,  31000,  70000,  50000,\n",
       "         4000,   1000,   7000,   9000,  18000,  60000,  21000,  12000,\n",
       "         3000,  26000,  14000, 300000,  24000,  23000,    900,  17000,\n",
       "        53000,  22000,  81000,  47000,  11000,  13000,  42000, 130000,\n",
       "       115000,  43000,  36000,  29000,  96000,  28000, 150000,  63000,\n",
       "          700,    800,  39000, 100000,  51000,    750,  16000,  56000,\n",
       "       240000,  38000,  32000,  62000,  48000, 125000, 165000,  71000,\n",
       "        55000, 140000,  65000,  91000, 135000, 190000, 220000,    950,\n",
       "        34000,  58000,  54000,  46000,  57000, 250000, 160000, 155000,\n",
       "        52000,  87000,  44000,  59000,    600,  77000, 105000,    850,\n",
       "        37000,  95000,    650])"
      ]
     },
     "execution_count": 18,
     "metadata": {},
     "output_type": "execute_result"
    }
   ],
   "source": [
    "df_forward['Wage'].unique()"
   ]
  },
  {
   "cell_type": "code",
   "execution_count": 19,
   "id": "e8ce9834",
   "metadata": {},
   "outputs": [
    {
     "data": {
      "text/plain": [
       "array(['2 ★', '3 ★', '1 ★', '5 ★', '4 ★'], dtype=object)"
      ]
     },
     "execution_count": 19,
     "metadata": {},
     "output_type": "execute_result"
    }
   ],
   "source": [
    "df_forward['IR'].unique()"
   ]
  },
  {
   "cell_type": "code",
   "execution_count": 20,
   "id": "8b2bad3b",
   "metadata": {},
   "outputs": [],
   "source": [
    "df_forward['IR'] = df_forward['IR'].str.extract('(\\d+)').astype(int) # To extract the star and convert to int."
   ]
  },
  {
   "cell_type": "markdown",
   "id": "cd36a8d9",
   "metadata": {},
   "source": [
    "##### I explore the distribution of some columns using statistical analysis and visualisation."
   ]
  },
  {
   "cell_type": "code",
   "execution_count": 21,
   "id": "2ca4cf87",
   "metadata": {},
   "outputs": [
    {
     "data": {
      "text/html": [
       "<div>\n",
       "<style scoped>\n",
       "    .dataframe tbody tr th:only-of-type {\n",
       "        vertical-align: middle;\n",
       "    }\n",
       "\n",
       "    .dataframe tbody tr th {\n",
       "        vertical-align: top;\n",
       "    }\n",
       "\n",
       "    .dataframe thead th {\n",
       "        text-align: right;\n",
       "    }\n",
       "</style>\n",
       "<table border=\"1\" class=\"dataframe\">\n",
       "  <thead>\n",
       "    <tr style=\"text-align: right;\">\n",
       "      <th></th>\n",
       "      <th>Age</th>\n",
       "      <th>OVA</th>\n",
       "      <th>BOV</th>\n",
       "      <th>POT</th>\n",
       "      <th>Growth</th>\n",
       "      <th>Value</th>\n",
       "      <th>Wage</th>\n",
       "      <th>Attacking</th>\n",
       "      <th>Crossing</th>\n",
       "      <th>Finishing</th>\n",
       "      <th>Heading_Accuracy</th>\n",
       "      <th>Short_Passing</th>\n",
       "      <th>Volleys</th>\n",
       "      <th>Skill</th>\n",
       "      <th>Dribbling</th>\n",
       "      <th>Curve</th>\n",
       "      <th>FK_Accuracy</th>\n",
       "      <th>Long_Passing</th>\n",
       "      <th>Ball_Control</th>\n",
       "      <th>Movement</th>\n",
       "      <th>Acceleration</th>\n",
       "      <th>Sprint_Speed</th>\n",
       "      <th>Agility</th>\n",
       "      <th>Reactions</th>\n",
       "      <th>Balance</th>\n",
       "      <th>Power</th>\n",
       "      <th>Shot_Power</th>\n",
       "      <th>Jumping</th>\n",
       "      <th>Stamina</th>\n",
       "      <th>Strength</th>\n",
       "      <th>Long_Shots</th>\n",
       "      <th>Mentality</th>\n",
       "      <th>Aggression</th>\n",
       "      <th>Interceptions</th>\n",
       "      <th>Positioning</th>\n",
       "      <th>Vision</th>\n",
       "      <th>Penalties</th>\n",
       "      <th>Composure</th>\n",
       "      <th>Defending</th>\n",
       "      <th>Marking</th>\n",
       "      <th>Standing_Tackle</th>\n",
       "      <th>Sliding_Tackle</th>\n",
       "      <th>Goalkeeping</th>\n",
       "      <th>GK_Diving</th>\n",
       "      <th>GK_Handling</th>\n",
       "      <th>GK_Kicking</th>\n",
       "      <th>GK_Positioning</th>\n",
       "      <th>GK_Reflexes</th>\n",
       "      <th>Total_Stats</th>\n",
       "      <th>Base_Stats</th>\n",
       "      <th>IR</th>\n",
       "      <th>PAC</th>\n",
       "      <th>SHO</th>\n",
       "      <th>PAS</th>\n",
       "      <th>DRI</th>\n",
       "      <th>DEF</th>\n",
       "      <th>PHY</th>\n",
       "    </tr>\n",
       "  </thead>\n",
       "  <tbody>\n",
       "    <tr>\n",
       "      <th>count</th>\n",
       "      <td>2031.0</td>\n",
       "      <td>2031.0</td>\n",
       "      <td>2031.0</td>\n",
       "      <td>2031.0</td>\n",
       "      <td>2031.0</td>\n",
       "      <td>2031.0</td>\n",
       "      <td>2031.0</td>\n",
       "      <td>2031.0</td>\n",
       "      <td>2031.0</td>\n",
       "      <td>2031.0</td>\n",
       "      <td>2031.0</td>\n",
       "      <td>2031.0</td>\n",
       "      <td>2021.0</td>\n",
       "      <td>2031.0</td>\n",
       "      <td>2031.0</td>\n",
       "      <td>2021.0</td>\n",
       "      <td>2031.0</td>\n",
       "      <td>2031.0</td>\n",
       "      <td>2031.0</td>\n",
       "      <td>2031.0</td>\n",
       "      <td>2031.0</td>\n",
       "      <td>2031.0</td>\n",
       "      <td>2021.0</td>\n",
       "      <td>2031.0</td>\n",
       "      <td>2021.0</td>\n",
       "      <td>2031.0</td>\n",
       "      <td>2031.0</td>\n",
       "      <td>2021.0</td>\n",
       "      <td>2031.0</td>\n",
       "      <td>2031.0</td>\n",
       "      <td>2031.0</td>\n",
       "      <td>2031.0</td>\n",
       "      <td>2031.0</td>\n",
       "      <td>2030.0</td>\n",
       "      <td>2030.0</td>\n",
       "      <td>2021.0</td>\n",
       "      <td>2031.0</td>\n",
       "      <td>1986.0</td>\n",
       "      <td>2031.0</td>\n",
       "      <td>2031.0</td>\n",
       "      <td>2031.0</td>\n",
       "      <td>2021.0</td>\n",
       "      <td>2031.0</td>\n",
       "      <td>2031.0</td>\n",
       "      <td>2031.0</td>\n",
       "      <td>2031.0</td>\n",
       "      <td>2031.0</td>\n",
       "      <td>2031.0</td>\n",
       "      <td>2031.0</td>\n",
       "      <td>2031.0</td>\n",
       "      <td>2031.0</td>\n",
       "      <td>2031.0</td>\n",
       "      <td>2031.0</td>\n",
       "      <td>2031.0</td>\n",
       "      <td>2031.0</td>\n",
       "      <td>2031.0</td>\n",
       "      <td>2031.0</td>\n",
       "    </tr>\n",
       "    <tr>\n",
       "      <th>mean</th>\n",
       "      <td>25.0</td>\n",
       "      <td>66.0</td>\n",
       "      <td>67.0</td>\n",
       "      <td>72.0</td>\n",
       "      <td>6.0</td>\n",
       "      <td>2522258.0</td>\n",
       "      <td>10653.0</td>\n",
       "      <td>297.0</td>\n",
       "      <td>47.0</td>\n",
       "      <td>67.0</td>\n",
       "      <td>64.0</td>\n",
       "      <td>59.0</td>\n",
       "      <td>59.0</td>\n",
       "      <td>271.0</td>\n",
       "      <td>64.0</td>\n",
       "      <td>52.0</td>\n",
       "      <td>45.0</td>\n",
       "      <td>45.0</td>\n",
       "      <td>65.0</td>\n",
       "      <td>327.0</td>\n",
       "      <td>68.0</td>\n",
       "      <td>69.0</td>\n",
       "      <td>66.0</td>\n",
       "      <td>63.0</td>\n",
       "      <td>63.0</td>\n",
       "      <td>327.0</td>\n",
       "      <td>67.0</td>\n",
       "      <td>68.0</td>\n",
       "      <td>63.0</td>\n",
       "      <td>70.0</td>\n",
       "      <td>60.0</td>\n",
       "      <td>265.0</td>\n",
       "      <td>54.0</td>\n",
       "      <td>25.0</td>\n",
       "      <td>66.0</td>\n",
       "      <td>56.0</td>\n",
       "      <td>64.0</td>\n",
       "      <td>61.0</td>\n",
       "      <td>76.0</td>\n",
       "      <td>28.0</td>\n",
       "      <td>26.0</td>\n",
       "      <td>23.0</td>\n",
       "      <td>52.0</td>\n",
       "      <td>10.0</td>\n",
       "      <td>10.0</td>\n",
       "      <td>11.0</td>\n",
       "      <td>10.0</td>\n",
       "      <td>11.0</td>\n",
       "      <td>1616.0</td>\n",
       "      <td>346.0</td>\n",
       "      <td>1.0</td>\n",
       "      <td>68.0</td>\n",
       "      <td>65.0</td>\n",
       "      <td>53.0</td>\n",
       "      <td>64.0</td>\n",
       "      <td>30.0</td>\n",
       "      <td>65.0</td>\n",
       "    </tr>\n",
       "    <tr>\n",
       "      <th>std</th>\n",
       "      <td>5.0</td>\n",
       "      <td>7.0</td>\n",
       "      <td>7.0</td>\n",
       "      <td>6.0</td>\n",
       "      <td>6.0</td>\n",
       "      <td>5918227.0</td>\n",
       "      <td>22309.0</td>\n",
       "      <td>42.0</td>\n",
       "      <td>13.0</td>\n",
       "      <td>8.0</td>\n",
       "      <td>12.0</td>\n",
       "      <td>9.0</td>\n",
       "      <td>11.0</td>\n",
       "      <td>44.0</td>\n",
       "      <td>8.0</td>\n",
       "      <td>12.0</td>\n",
       "      <td>13.0</td>\n",
       "      <td>11.0</td>\n",
       "      <td>8.0</td>\n",
       "      <td>42.0</td>\n",
       "      <td>12.0</td>\n",
       "      <td>11.0</td>\n",
       "      <td>11.0</td>\n",
       "      <td>10.0</td>\n",
       "      <td>12.0</td>\n",
       "      <td>38.0</td>\n",
       "      <td>9.0</td>\n",
       "      <td>11.0</td>\n",
       "      <td>11.0</td>\n",
       "      <td>13.0</td>\n",
       "      <td>9.0</td>\n",
       "      <td>41.0</td>\n",
       "      <td>16.0</td>\n",
       "      <td>10.0</td>\n",
       "      <td>10.0</td>\n",
       "      <td>10.0</td>\n",
       "      <td>9.0</td>\n",
       "      <td>10.0</td>\n",
       "      <td>24.0</td>\n",
       "      <td>11.0</td>\n",
       "      <td>10.0</td>\n",
       "      <td>8.0</td>\n",
       "      <td>8.0</td>\n",
       "      <td>3.0</td>\n",
       "      <td>3.0</td>\n",
       "      <td>4.0</td>\n",
       "      <td>3.0</td>\n",
       "      <td>3.0</td>\n",
       "      <td>180.0</td>\n",
       "      <td>37.0</td>\n",
       "      <td>1.0</td>\n",
       "      <td>11.0</td>\n",
       "      <td>8.0</td>\n",
       "      <td>9.0</td>\n",
       "      <td>7.0</td>\n",
       "      <td>8.0</td>\n",
       "      <td>10.0</td>\n",
       "    </tr>\n",
       "    <tr>\n",
       "      <th>min</th>\n",
       "      <td>16.0</td>\n",
       "      <td>47.0</td>\n",
       "      <td>48.0</td>\n",
       "      <td>49.0</td>\n",
       "      <td>0.0</td>\n",
       "      <td>0.0</td>\n",
       "      <td>0.0</td>\n",
       "      <td>184.0</td>\n",
       "      <td>21.0</td>\n",
       "      <td>33.0</td>\n",
       "      <td>24.0</td>\n",
       "      <td>26.0</td>\n",
       "      <td>30.0</td>\n",
       "      <td>162.0</td>\n",
       "      <td>38.0</td>\n",
       "      <td>22.0</td>\n",
       "      <td>20.0</td>\n",
       "      <td>20.0</td>\n",
       "      <td>38.0</td>\n",
       "      <td>123.0</td>\n",
       "      <td>24.0</td>\n",
       "      <td>26.0</td>\n",
       "      <td>27.0</td>\n",
       "      <td>32.0</td>\n",
       "      <td>25.0</td>\n",
       "      <td>193.0</td>\n",
       "      <td>41.0</td>\n",
       "      <td>28.0</td>\n",
       "      <td>21.0</td>\n",
       "      <td>26.0</td>\n",
       "      <td>31.0</td>\n",
       "      <td>76.0</td>\n",
       "      <td>15.0</td>\n",
       "      <td>10.0</td>\n",
       "      <td>35.0</td>\n",
       "      <td>31.0</td>\n",
       "      <td>33.0</td>\n",
       "      <td>37.0</td>\n",
       "      <td>32.0</td>\n",
       "      <td>10.0</td>\n",
       "      <td>10.0</td>\n",
       "      <td>10.0</td>\n",
       "      <td>12.0</td>\n",
       "      <td>2.0</td>\n",
       "      <td>2.0</td>\n",
       "      <td>2.0</td>\n",
       "      <td>4.0</td>\n",
       "      <td>2.0</td>\n",
       "      <td>792.0</td>\n",
       "      <td>244.0</td>\n",
       "      <td>1.0</td>\n",
       "      <td>25.0</td>\n",
       "      <td>38.0</td>\n",
       "      <td>30.0</td>\n",
       "      <td>43.0</td>\n",
       "      <td>15.0</td>\n",
       "      <td>28.0</td>\n",
       "    </tr>\n",
       "    <tr>\n",
       "      <th>25%</th>\n",
       "      <td>21.0</td>\n",
       "      <td>61.0</td>\n",
       "      <td>62.0</td>\n",
       "      <td>68.0</td>\n",
       "      <td>0.0</td>\n",
       "      <td>325000.0</td>\n",
       "      <td>2000.0</td>\n",
       "      <td>267.0</td>\n",
       "      <td>36.0</td>\n",
       "      <td>62.0</td>\n",
       "      <td>57.0</td>\n",
       "      <td>53.0</td>\n",
       "      <td>52.0</td>\n",
       "      <td>238.0</td>\n",
       "      <td>58.0</td>\n",
       "      <td>43.0</td>\n",
       "      <td>34.0</td>\n",
       "      <td>37.0</td>\n",
       "      <td>60.0</td>\n",
       "      <td>302.0</td>\n",
       "      <td>62.0</td>\n",
       "      <td>63.0</td>\n",
       "      <td>59.0</td>\n",
       "      <td>56.0</td>\n",
       "      <td>56.0</td>\n",
       "      <td>302.0</td>\n",
       "      <td>61.0</td>\n",
       "      <td>62.0</td>\n",
       "      <td>55.0</td>\n",
       "      <td>63.0</td>\n",
       "      <td>54.0</td>\n",
       "      <td>234.0</td>\n",
       "      <td>40.0</td>\n",
       "      <td>18.0</td>\n",
       "      <td>59.0</td>\n",
       "      <td>49.0</td>\n",
       "      <td>58.0</td>\n",
       "      <td>53.0</td>\n",
       "      <td>59.0</td>\n",
       "      <td>20.0</td>\n",
       "      <td>19.0</td>\n",
       "      <td>17.0</td>\n",
       "      <td>47.0</td>\n",
       "      <td>8.0</td>\n",
       "      <td>8.0</td>\n",
       "      <td>8.0</td>\n",
       "      <td>8.0</td>\n",
       "      <td>8.0</td>\n",
       "      <td>1488.0</td>\n",
       "      <td>321.0</td>\n",
       "      <td>1.0</td>\n",
       "      <td>63.0</td>\n",
       "      <td>60.0</td>\n",
       "      <td>46.0</td>\n",
       "      <td>59.0</td>\n",
       "      <td>24.0</td>\n",
       "      <td>58.0</td>\n",
       "    </tr>\n",
       "    <tr>\n",
       "      <th>50%</th>\n",
       "      <td>24.0</td>\n",
       "      <td>66.0</td>\n",
       "      <td>67.0</td>\n",
       "      <td>72.0</td>\n",
       "      <td>4.0</td>\n",
       "      <td>750000.0</td>\n",
       "      <td>3000.0</td>\n",
       "      <td>295.0</td>\n",
       "      <td>46.0</td>\n",
       "      <td>67.0</td>\n",
       "      <td>65.0</td>\n",
       "      <td>59.0</td>\n",
       "      <td>60.0</td>\n",
       "      <td>268.0</td>\n",
       "      <td>64.0</td>\n",
       "      <td>52.0</td>\n",
       "      <td>42.0</td>\n",
       "      <td>45.0</td>\n",
       "      <td>65.0</td>\n",
       "      <td>329.0</td>\n",
       "      <td>68.0</td>\n",
       "      <td>69.0</td>\n",
       "      <td>66.0</td>\n",
       "      <td>62.0</td>\n",
       "      <td>65.0</td>\n",
       "      <td>331.0</td>\n",
       "      <td>68.0</td>\n",
       "      <td>68.0</td>\n",
       "      <td>64.0</td>\n",
       "      <td>72.0</td>\n",
       "      <td>60.0</td>\n",
       "      <td>262.0</td>\n",
       "      <td>54.0</td>\n",
       "      <td>23.0</td>\n",
       "      <td>66.0</td>\n",
       "      <td>55.0</td>\n",
       "      <td>64.0</td>\n",
       "      <td>61.0</td>\n",
       "      <td>72.0</td>\n",
       "      <td>26.0</td>\n",
       "      <td>24.0</td>\n",
       "      <td>21.0</td>\n",
       "      <td>52.0</td>\n",
       "      <td>10.0</td>\n",
       "      <td>10.0</td>\n",
       "      <td>11.0</td>\n",
       "      <td>10.0</td>\n",
       "      <td>10.0</td>\n",
       "      <td>1607.0</td>\n",
       "      <td>345.0</td>\n",
       "      <td>1.0</td>\n",
       "      <td>69.0</td>\n",
       "      <td>65.0</td>\n",
       "      <td>52.0</td>\n",
       "      <td>64.0</td>\n",
       "      <td>29.0</td>\n",
       "      <td>66.0</td>\n",
       "    </tr>\n",
       "    <tr>\n",
       "      <th>75%</th>\n",
       "      <td>29.0</td>\n",
       "      <td>71.0</td>\n",
       "      <td>72.0</td>\n",
       "      <td>75.0</td>\n",
       "      <td>10.0</td>\n",
       "      <td>2100000.0</td>\n",
       "      <td>10000.0</td>\n",
       "      <td>326.0</td>\n",
       "      <td>57.0</td>\n",
       "      <td>73.0</td>\n",
       "      <td>72.0</td>\n",
       "      <td>65.0</td>\n",
       "      <td>67.0</td>\n",
       "      <td>300.0</td>\n",
       "      <td>69.0</td>\n",
       "      <td>61.0</td>\n",
       "      <td>55.0</td>\n",
       "      <td>53.0</td>\n",
       "      <td>70.0</td>\n",
       "      <td>355.0</td>\n",
       "      <td>75.0</td>\n",
       "      <td>76.0</td>\n",
       "      <td>73.0</td>\n",
       "      <td>69.0</td>\n",
       "      <td>71.0</td>\n",
       "      <td>355.0</td>\n",
       "      <td>74.0</td>\n",
       "      <td>75.0</td>\n",
       "      <td>70.0</td>\n",
       "      <td>79.0</td>\n",
       "      <td>66.0</td>\n",
       "      <td>294.0</td>\n",
       "      <td>67.0</td>\n",
       "      <td>31.0</td>\n",
       "      <td>73.0</td>\n",
       "      <td>62.0</td>\n",
       "      <td>70.0</td>\n",
       "      <td>69.0</td>\n",
       "      <td>91.0</td>\n",
       "      <td>35.0</td>\n",
       "      <td>31.0</td>\n",
       "      <td>27.0</td>\n",
       "      <td>57.0</td>\n",
       "      <td>13.0</td>\n",
       "      <td>13.0</td>\n",
       "      <td>13.0</td>\n",
       "      <td>13.0</td>\n",
       "      <td>13.0</td>\n",
       "      <td>1736.0</td>\n",
       "      <td>370.0</td>\n",
       "      <td>1.0</td>\n",
       "      <td>76.0</td>\n",
       "      <td>71.0</td>\n",
       "      <td>59.0</td>\n",
       "      <td>69.0</td>\n",
       "      <td>35.0</td>\n",
       "      <td>72.0</td>\n",
       "    </tr>\n",
       "    <tr>\n",
       "      <th>max</th>\n",
       "      <td>53.0</td>\n",
       "      <td>91.0</td>\n",
       "      <td>91.0</td>\n",
       "      <td>93.0</td>\n",
       "      <td>25.0</td>\n",
       "      <td>80000000.0</td>\n",
       "      <td>300000.0</td>\n",
       "      <td>429.0</td>\n",
       "      <td>87.0</td>\n",
       "      <td>94.0</td>\n",
       "      <td>93.0</td>\n",
       "      <td>87.0</td>\n",
       "      <td>90.0</td>\n",
       "      <td>419.0</td>\n",
       "      <td>91.0</td>\n",
       "      <td>90.0</td>\n",
       "      <td>87.0</td>\n",
       "      <td>83.0</td>\n",
       "      <td>91.0</td>\n",
       "      <td>460.0</td>\n",
       "      <td>96.0</td>\n",
       "      <td>95.0</td>\n",
       "      <td>94.0</td>\n",
       "      <td>96.0</td>\n",
       "      <td>95.0</td>\n",
       "      <td>424.0</td>\n",
       "      <td>95.0</td>\n",
       "      <td>93.0</td>\n",
       "      <td>94.0</td>\n",
       "      <td>97.0</td>\n",
       "      <td>88.0</td>\n",
       "      <td>391.0</td>\n",
       "      <td>93.0</td>\n",
       "      <td>91.0</td>\n",
       "      <td>95.0</td>\n",
       "      <td>87.0</td>\n",
       "      <td>92.0</td>\n",
       "      <td>91.0</td>\n",
       "      <td>209.0</td>\n",
       "      <td>72.0</td>\n",
       "      <td>68.0</td>\n",
       "      <td>69.0</td>\n",
       "      <td>153.0</td>\n",
       "      <td>29.0</td>\n",
       "      <td>33.0</td>\n",
       "      <td>76.0</td>\n",
       "      <td>33.0</td>\n",
       "      <td>37.0</td>\n",
       "      <td>2316.0</td>\n",
       "      <td>470.0</td>\n",
       "      <td>5.0</td>\n",
       "      <td>95.0</td>\n",
       "      <td>91.0</td>\n",
       "      <td>84.0</td>\n",
       "      <td>90.0</td>\n",
       "      <td>64.0</td>\n",
       "      <td>87.0</td>\n",
       "    </tr>\n",
       "  </tbody>\n",
       "</table>\n",
       "</div>"
      ],
      "text/plain": [
       "          Age     OVA     BOV     POT  Growth       Value      Wage  \\\n",
       "count  2031.0  2031.0  2031.0  2031.0  2031.0      2031.0    2031.0   \n",
       "mean     25.0    66.0    67.0    72.0     6.0   2522258.0   10653.0   \n",
       "std       5.0     7.0     7.0     6.0     6.0   5918227.0   22309.0   \n",
       "min      16.0    47.0    48.0    49.0     0.0         0.0       0.0   \n",
       "25%      21.0    61.0    62.0    68.0     0.0    325000.0    2000.0   \n",
       "50%      24.0    66.0    67.0    72.0     4.0    750000.0    3000.0   \n",
       "75%      29.0    71.0    72.0    75.0    10.0   2100000.0   10000.0   \n",
       "max      53.0    91.0    91.0    93.0    25.0  80000000.0  300000.0   \n",
       "\n",
       "       Attacking  Crossing  Finishing  Heading_Accuracy  Short_Passing  \\\n",
       "count     2031.0    2031.0     2031.0            2031.0         2031.0   \n",
       "mean       297.0      47.0       67.0              64.0           59.0   \n",
       "std         42.0      13.0        8.0              12.0            9.0   \n",
       "min        184.0      21.0       33.0              24.0           26.0   \n",
       "25%        267.0      36.0       62.0              57.0           53.0   \n",
       "50%        295.0      46.0       67.0              65.0           59.0   \n",
       "75%        326.0      57.0       73.0              72.0           65.0   \n",
       "max        429.0      87.0       94.0              93.0           87.0   \n",
       "\n",
       "       Volleys   Skill  Dribbling   Curve  FK_Accuracy  Long_Passing  \\\n",
       "count   2021.0  2031.0     2031.0  2021.0       2031.0        2031.0   \n",
       "mean      59.0   271.0       64.0    52.0         45.0          45.0   \n",
       "std       11.0    44.0        8.0    12.0         13.0          11.0   \n",
       "min       30.0   162.0       38.0    22.0         20.0          20.0   \n",
       "25%       52.0   238.0       58.0    43.0         34.0          37.0   \n",
       "50%       60.0   268.0       64.0    52.0         42.0          45.0   \n",
       "75%       67.0   300.0       69.0    61.0         55.0          53.0   \n",
       "max       90.0   419.0       91.0    90.0         87.0          83.0   \n",
       "\n",
       "       Ball_Control  Movement  Acceleration  Sprint_Speed  Agility  Reactions  \\\n",
       "count        2031.0    2031.0        2031.0        2031.0   2021.0     2031.0   \n",
       "mean           65.0     327.0          68.0          69.0     66.0       63.0   \n",
       "std             8.0      42.0          12.0          11.0     11.0       10.0   \n",
       "min            38.0     123.0          24.0          26.0     27.0       32.0   \n",
       "25%            60.0     302.0          62.0          63.0     59.0       56.0   \n",
       "50%            65.0     329.0          68.0          69.0     66.0       62.0   \n",
       "75%            70.0     355.0          75.0          76.0     73.0       69.0   \n",
       "max            91.0     460.0          96.0          95.0     94.0       96.0   \n",
       "\n",
       "       Balance   Power  Shot_Power  Jumping  Stamina  Strength  Long_Shots  \\\n",
       "count   2021.0  2031.0      2031.0   2021.0   2031.0    2031.0      2031.0   \n",
       "mean      63.0   327.0        67.0     68.0     63.0      70.0        60.0   \n",
       "std       12.0    38.0         9.0     11.0     11.0      13.0         9.0   \n",
       "min       25.0   193.0        41.0     28.0     21.0      26.0        31.0   \n",
       "25%       56.0   302.0        61.0     62.0     55.0      63.0        54.0   \n",
       "50%       65.0   331.0        68.0     68.0     64.0      72.0        60.0   \n",
       "75%       71.0   355.0        74.0     75.0     70.0      79.0        66.0   \n",
       "max       95.0   424.0        95.0     93.0     94.0      97.0        88.0   \n",
       "\n",
       "       Mentality  Aggression  Interceptions  Positioning  Vision  Penalties  \\\n",
       "count     2031.0      2031.0         2030.0       2030.0  2021.0     2031.0   \n",
       "mean       265.0        54.0           25.0         66.0    56.0       64.0   \n",
       "std         41.0        16.0           10.0         10.0    10.0        9.0   \n",
       "min         76.0        15.0           10.0         35.0    31.0       33.0   \n",
       "25%        234.0        40.0           18.0         59.0    49.0       58.0   \n",
       "50%        262.0        54.0           23.0         66.0    55.0       64.0   \n",
       "75%        294.0        67.0           31.0         73.0    62.0       70.0   \n",
       "max        391.0        93.0           91.0         95.0    87.0       92.0   \n",
       "\n",
       "       Composure  Defending  Marking  Standing_Tackle  Sliding_Tackle  \\\n",
       "count     1986.0     2031.0   2031.0           2031.0          2021.0   \n",
       "mean        61.0       76.0     28.0             26.0            23.0   \n",
       "std         10.0       24.0     11.0             10.0             8.0   \n",
       "min         37.0       32.0     10.0             10.0            10.0   \n",
       "25%         53.0       59.0     20.0             19.0            17.0   \n",
       "50%         61.0       72.0     26.0             24.0            21.0   \n",
       "75%         69.0       91.0     35.0             31.0            27.0   \n",
       "max         91.0      209.0     72.0             68.0            69.0   \n",
       "\n",
       "       Goalkeeping  GK_Diving  GK_Handling  GK_Kicking  GK_Positioning  \\\n",
       "count       2031.0     2031.0       2031.0      2031.0          2031.0   \n",
       "mean          52.0       10.0         10.0        11.0            10.0   \n",
       "std            8.0        3.0          3.0         4.0             3.0   \n",
       "min           12.0        2.0          2.0         2.0             4.0   \n",
       "25%           47.0        8.0          8.0         8.0             8.0   \n",
       "50%           52.0       10.0         10.0        11.0            10.0   \n",
       "75%           57.0       13.0         13.0        13.0            13.0   \n",
       "max          153.0       29.0         33.0        76.0            33.0   \n",
       "\n",
       "       GK_Reflexes  Total_Stats  Base_Stats      IR     PAC     SHO     PAS  \\\n",
       "count       2031.0       2031.0      2031.0  2031.0  2031.0  2031.0  2031.0   \n",
       "mean          11.0       1616.0       346.0     1.0    68.0    65.0    53.0   \n",
       "std            3.0        180.0        37.0     1.0    11.0     8.0     9.0   \n",
       "min            2.0        792.0       244.0     1.0    25.0    38.0    30.0   \n",
       "25%            8.0       1488.0       321.0     1.0    63.0    60.0    46.0   \n",
       "50%           10.0       1607.0       345.0     1.0    69.0    65.0    52.0   \n",
       "75%           13.0       1736.0       370.0     1.0    76.0    71.0    59.0   \n",
       "max           37.0       2316.0       470.0     5.0    95.0    91.0    84.0   \n",
       "\n",
       "          DRI     DEF     PHY  \n",
       "count  2031.0  2031.0  2031.0  \n",
       "mean     64.0    30.0    65.0  \n",
       "std       7.0     8.0    10.0  \n",
       "min      43.0    15.0    28.0  \n",
       "25%      59.0    24.0    58.0  \n",
       "50%      64.0    29.0    66.0  \n",
       "75%      69.0    35.0    72.0  \n",
       "max      90.0    64.0    87.0  "
      ]
     },
     "execution_count": 21,
     "metadata": {},
     "output_type": "execute_result"
    }
   ],
   "source": [
    "df_forward.describe().round()"
   ]
  },
  {
   "cell_type": "code",
   "execution_count": 22,
   "id": "b4a56ad0",
   "metadata": {},
   "outputs": [
    {
     "data": {
      "text/plain": [
       "<AxesSubplot:ylabel='Frequency'>"
      ]
     },
     "execution_count": 22,
     "metadata": {},
     "output_type": "execute_result"
    },
    {
     "data": {
      "image/png": "[encoded data removed]",
      "text/plain": [
       "<Figure size 640x480 with 1 Axes>"
      ]
     },
     "metadata": {},
     "output_type": "display_data"
    }
   ],
   "source": [
    "df_forward['Wage'].plot(kind='hist', bins=50)"
   ]
  },
  {
   "cell_type": "code",
   "execution_count": 23,
   "id": "61f03c35",
   "metadata": {
    "scrolled": true
   },
   "outputs": [
    {
     "data": {
      "text/plain": [
       "<AxesSubplot:xlabel='Wage'>"
      ]
     },
     "execution_count": 23,
     "metadata": {},
     "output_type": "execute_result"
    },
    {
     "data": {
      "image/png": "[encoded data removed]",
      "text/plain": [
       "<Figure size 640x480 with 1 Axes>"
      ]
     },
     "metadata": {},
     "output_type": "display_data"
    }
   ],
   "source": [
    "sns.boxplot(x='Wage', data=df_forward, whis=5) # To create a boxplot for the 'Wage' column. I see there's one strong outlier."
   ]
  },
  {
   "cell_type": "code",
   "execution_count": 24,
   "id": "0d670370",
   "metadata": {},
   "outputs": [
    {
     "data": {
      "text/plain": [
       "<AxesSubplot:ylabel='Frequency'>"
      ]
     },
     "execution_count": 24,
     "metadata": {},
     "output_type": "execute_result"
    },
    {
     "data": {
      "image/png": "[encoded data removed]",
      "text/plain": [
       "<Figure size 640x480 with 1 Axes>"
      ]
     },
     "metadata": {},
     "output_type": "display_data"
    }
   ],
   "source": [
    "df_forward['Value'].plot(kind='hist', bins=50)"
   ]
  },
  {
   "cell_type": "code",
   "execution_count": 25,
   "id": "44bf49fd",
   "metadata": {},
   "outputs": [
    {
     "data": {
      "text/plain": [
       "<AxesSubplot:xlabel='Value'>"
      ]
     },
     "execution_count": 25,
     "metadata": {},
     "output_type": "execute_result"
    },
    {
     "data": {
      "image/png": "[encoded data removed]",
      "text/plain": [
       "<Figure size 640x480 with 1 Axes>"
      ]
     },
     "metadata": {},
     "output_type": "display_data"
    }
   ],
   "source": [
    "sns.boxplot(x='Value', data=df_forward, whis=5)"
   ]
  },
  {
   "cell_type": "markdown",
   "id": "649bbd39",
   "metadata": {},
   "source": [
    "### 3. Processing Data"
   ]
  },
  {
   "cell_type": "code",
   "execution_count": 26,
   "id": "497cb45a",
   "metadata": {},
   "outputs": [],
   "source": [
    "wage_threshold = df_forward['Wage'].quantile(0.95) # I calculate the 95th percentile to catch the outlier in 'Wage'.\n",
    "df_forward_filtered = df_forward[df_forward['Wage'] <= wage_threshold]"
   ]
  },
  {
   "cell_type": "code",
   "execution_count": 27,
   "id": "7c87d9aa",
   "metadata": {},
   "outputs": [
    {
     "data": {
      "text/plain": [
       "<AxesSubplot:xlabel='Wage'>"
      ]
     },
     "execution_count": 27,
     "metadata": {},
     "output_type": "execute_result"
    },
    {
     "data": {
      "image/png": "[encoded data removed]",
      "text/plain": [
       "<Figure size 640x480 with 1 Axes>"
      ]
     },
     "metadata": {},
     "output_type": "display_data"
    }
   ],
   "source": [
    "sns.boxplot(x='Wage', data=df_forward_filtered, whis=5)"
   ]
  },
  {
   "cell_type": "code",
   "execution_count": 28,
   "id": "f1a86844",
   "metadata": {},
   "outputs": [
    {
     "data": {
      "text/plain": [
       "<AxesSubplot:ylabel='Frequency'>"
      ]
     },
     "execution_count": 28,
     "metadata": {},
     "output_type": "execute_result"
    },
    {
     "data": {
      "image/png": "[encoded data removed]",
      "text/plain": [
       "<Figure size 640x480 with 1 Axes>"
      ]
     },
     "metadata": {},
     "output_type": "display_data"
    }
   ],
   "source": [
    "df_forward_filtered['Value'].plot(kind='hist', bins=50) # Eliminating the outlier in 'Wage' also improved it in 'Value'."
   ]
  },
  {
   "cell_type": "code",
   "execution_count": 29,
   "id": "f3e4e9da",
   "metadata": {},
   "outputs": [
    {
     "data": {
      "text/plain": [
       "<AxesSubplot:xlabel='Value'>"
      ]
     },
     "execution_count": 29,
     "metadata": {},
     "output_type": "execute_result"
    },
    {
     "data": {
      "image/png": "[encoded data removed]",
      "text/plain": [
       "<Figure size 640x480 with 1 Axes>"
      ]
     },
     "metadata": {},
     "output_type": "display_data"
    }
   ],
   "source": [
    "sns.boxplot(x='Value', data=df_forward_filtered, whis=5)"
   ]
  },
  {
   "cell_type": "markdown",
   "id": "2a8f023b",
   "metadata": {},
   "source": [
    "##### I create a new dataframe containing only the necessary columns for the analysis (such as player name, age, club, position, international reputation (IR), wage and market value (which will be the target value) as well as performance data from the past 5 years) to achieve a dataframe more easy to handle.\n",
    "##### I want to predict the rank of real-life football players by market value, hence I focus on the real-life data in the dataset and exclude the columns related to the FIFA 21 video game such as 'Best Overall (BOV)' and 'Potential (POT)'. These columns are not directly related to a player's market value in real life and don't seem useful for my analysis.\n",
    "##### Performance Data: PAC: Pace, SHO: Shooting, PAS: Passing, DRI: Dribbling, DEF: Defending, PHY: Physicality"
   ]
  },
  {
   "cell_type": "code",
   "execution_count": 30,
   "id": "d0ae384f",
   "metadata": {},
   "outputs": [
    {
     "data": {
      "text/html": [
       "<div>\n",
       "<style scoped>\n",
       "    .dataframe tbody tr th:only-of-type {\n",
       "        vertical-align: middle;\n",
       "    }\n",
       "\n",
       "    .dataframe tbody tr th {\n",
       "        vertical-align: top;\n",
       "    }\n",
       "\n",
       "    .dataframe thead th {\n",
       "        text-align: right;\n",
       "    }\n",
       "</style>\n",
       "<table border=\"1\" class=\"dataframe\">\n",
       "  <thead>\n",
       "    <tr style=\"text-align: right;\">\n",
       "      <th></th>\n",
       "      <th>Name</th>\n",
       "      <th>Age</th>\n",
       "      <th>Club</th>\n",
       "      <th>Position</th>\n",
       "      <th>Wage</th>\n",
       "      <th>IR</th>\n",
       "      <th>Value</th>\n",
       "      <th>PAC</th>\n",
       "      <th>SHO</th>\n",
       "      <th>PAS</th>\n",
       "      <th>DRI</th>\n",
       "      <th>DEF</th>\n",
       "      <th>PHY</th>\n",
       "    </tr>\n",
       "    <tr>\n",
       "      <th>ID</th>\n",
       "      <th></th>\n",
       "      <th></th>\n",
       "      <th></th>\n",
       "      <th></th>\n",
       "      <th></th>\n",
       "      <th></th>\n",
       "      <th></th>\n",
       "      <th></th>\n",
       "      <th></th>\n",
       "      <th></th>\n",
       "      <th></th>\n",
       "      <th></th>\n",
       "      <th></th>\n",
       "    </tr>\n",
       "  </thead>\n",
       "  <tbody>\n",
       "    <tr>\n",
       "      <th>243337</th>\n",
       "      <td>G. Gibson</td>\n",
       "      <td>19</td>\n",
       "      <td>Sandefjord Fotball</td>\n",
       "      <td>ST</td>\n",
       "      <td>500</td>\n",
       "      <td>1</td>\n",
       "      <td>200000</td>\n",
       "      <td>71</td>\n",
       "      <td>55</td>\n",
       "      <td>44</td>\n",
       "      <td>56</td>\n",
       "      <td>19</td>\n",
       "      <td>53</td>\n",
       "    </tr>\n",
       "    <tr>\n",
       "      <th>231503</th>\n",
       "      <td>B. Sambou</td>\n",
       "      <td>22</td>\n",
       "      <td>Fortuna Sittard</td>\n",
       "      <td>ST</td>\n",
       "      <td>3000</td>\n",
       "      <td>1</td>\n",
       "      <td>525000</td>\n",
       "      <td>77</td>\n",
       "      <td>60</td>\n",
       "      <td>46</td>\n",
       "      <td>62</td>\n",
       "      <td>22</td>\n",
       "      <td>70</td>\n",
       "    </tr>\n",
       "    <tr>\n",
       "      <th>5589</th>\n",
       "      <td>Figo</td>\n",
       "      <td>35</td>\n",
       "      <td>Inter</td>\n",
       "      <td>RW</td>\n",
       "      <td>0</td>\n",
       "      <td>5</td>\n",
       "      <td>0</td>\n",
       "      <td>74</td>\n",
       "      <td>77</td>\n",
       "      <td>82</td>\n",
       "      <td>81</td>\n",
       "      <td>46</td>\n",
       "      <td>70</td>\n",
       "    </tr>\n",
       "    <tr>\n",
       "      <th>242998</th>\n",
       "      <td>Klauss</td>\n",
       "      <td>23</td>\n",
       "      <td>TSG 1899 Hoffenheim</td>\n",
       "      <td>ST</td>\n",
       "      <td>14000</td>\n",
       "      <td>1</td>\n",
       "      <td>1500000</td>\n",
       "      <td>64</td>\n",
       "      <td>67</td>\n",
       "      <td>61</td>\n",
       "      <td>66</td>\n",
       "      <td>29</td>\n",
       "      <td>72</td>\n",
       "    </tr>\n",
       "    <tr>\n",
       "      <th>198874</th>\n",
       "      <td>Adriano</td>\n",
       "      <td>32</td>\n",
       "      <td>FC Seoul</td>\n",
       "      <td>ST</td>\n",
       "      <td>3000</td>\n",
       "      <td>2</td>\n",
       "      <td>425000</td>\n",
       "      <td>71</td>\n",
       "      <td>64</td>\n",
       "      <td>53</td>\n",
       "      <td>63</td>\n",
       "      <td>33</td>\n",
       "      <td>52</td>\n",
       "    </tr>\n",
       "  </tbody>\n",
       "</table>\n",
       "</div>"
      ],
      "text/plain": [
       "             Name  Age                 Club Position   Wage  IR    Value  PAC  \\\n",
       "ID                                                                              \n",
       "243337  G. Gibson   19   Sandefjord Fotball       ST    500   1   200000   71   \n",
       "231503  B. Sambou   22      Fortuna Sittard       ST   3000   1   525000   77   \n",
       "5589         Figo   35                Inter       RW      0   5        0   74   \n",
       "242998     Klauss   23  TSG 1899 Hoffenheim       ST  14000   1  1500000   64   \n",
       "198874    Adriano   32             FC Seoul       ST   3000   2   425000   71   \n",
       "\n",
       "        SHO  PAS  DRI  DEF  PHY  \n",
       "ID                               \n",
       "243337   55   44   56   19   53  \n",
       "231503   60   46   62   22   70  \n",
       "5589     77   82   81   46   70  \n",
       "242998   67   61   66   29   72  \n",
       "198874   64   53   63   33   52  "
      ]
     },
     "execution_count": 30,
     "metadata": {},
     "output_type": "execute_result"
    }
   ],
   "source": [
    "df_rank = df_forward_filtered[['Name', 'Age', 'Club', 'Position', 'Wage', 'IR', 'Value', 'PAC', 'SHO', 'PAS', 'DRI', 'DEF', 'PHY']].copy()\n",
    "df_rank.sample(5)"
   ]
  },
  {
   "cell_type": "code",
   "execution_count": 31,
   "id": "dd642c54",
   "metadata": {},
   "outputs": [
    {
     "name": "stdout",
     "output_type": "stream",
     "text": [
      "<class 'pandas.core.frame.DataFrame'>\n",
      "Int64Index: 1932 entries, 330 to 259105\n",
      "Data columns (total 13 columns):\n",
      " #   Column    Non-Null Count  Dtype \n",
      "---  ------    --------------  ----- \n",
      " 0   Name      1932 non-null   object\n",
      " 1   Age       1932 non-null   int64 \n",
      " 2   Club      1932 non-null   object\n",
      " 3   Position  1932 non-null   object\n",
      " 4   Wage      1932 non-null   int64 \n",
      " 5   IR        1932 non-null   int64 \n",
      " 6   Value     1932 non-null   int64 \n",
      " 7   PAC       1932 non-null   int64 \n",
      " 8   SHO       1932 non-null   int64 \n",
      " 9   PAS       1932 non-null   int64 \n",
      " 10  DRI       1932 non-null   int64 \n",
      " 11  DEF       1932 non-null   int64 \n",
      " 12  PHY       1932 non-null   int64 \n",
      "dtypes: int64(10), object(3)\n",
      "memory usage: 211.3+ KB\n"
     ]
    }
   ],
   "source": [
    "df_rank.info()"
   ]
  },
  {
   "cell_type": "code",
   "execution_count": 32,
   "id": "851e3e32",
   "metadata": {},
   "outputs": [
    {
     "data": {
      "text/html": [
       "<div>\n",
       "<style scoped>\n",
       "    .dataframe tbody tr th:only-of-type {\n",
       "        vertical-align: middle;\n",
       "    }\n",
       "\n",
       "    .dataframe tbody tr th {\n",
       "        vertical-align: top;\n",
       "    }\n",
       "\n",
       "    .dataframe thead th {\n",
       "        text-align: right;\n",
       "    }\n",
       "</style>\n",
       "<table border=\"1\" class=\"dataframe\">\n",
       "  <thead>\n",
       "    <tr style=\"text-align: right;\">\n",
       "      <th></th>\n",
       "      <th>count</th>\n",
       "      <th>mean</th>\n",
       "      <th>std</th>\n",
       "      <th>min</th>\n",
       "      <th>25%</th>\n",
       "      <th>50%</th>\n",
       "      <th>75%</th>\n",
       "      <th>max</th>\n",
       "      <th>iqr</th>\n",
       "    </tr>\n",
       "  </thead>\n",
       "  <tbody>\n",
       "    <tr>\n",
       "      <th>Age</th>\n",
       "      <td>1932.0</td>\n",
       "      <td>25.0</td>\n",
       "      <td>5.0</td>\n",
       "      <td>16.0</td>\n",
       "      <td>21.0</td>\n",
       "      <td>24.0</td>\n",
       "      <td>29.0</td>\n",
       "      <td>53.0</td>\n",
       "      <td>8.0</td>\n",
       "    </tr>\n",
       "    <tr>\n",
       "      <th>Wage</th>\n",
       "      <td>1932.0</td>\n",
       "      <td>6833.0</td>\n",
       "      <td>8861.0</td>\n",
       "      <td>0.0</td>\n",
       "      <td>1000.0</td>\n",
       "      <td>3000.0</td>\n",
       "      <td>8000.0</td>\n",
       "      <td>43000.0</td>\n",
       "      <td>7000.0</td>\n",
       "    </tr>\n",
       "    <tr>\n",
       "      <th>IR</th>\n",
       "      <td>1932.0</td>\n",
       "      <td>1.0</td>\n",
       "      <td>0.0</td>\n",
       "      <td>1.0</td>\n",
       "      <td>1.0</td>\n",
       "      <td>1.0</td>\n",
       "      <td>1.0</td>\n",
       "      <td>5.0</td>\n",
       "      <td>0.0</td>\n",
       "    </tr>\n",
       "    <tr>\n",
       "      <th>Value</th>\n",
       "      <td>1932.0</td>\n",
       "      <td>1701297.0</td>\n",
       "      <td>2718976.0</td>\n",
       "      <td>0.0</td>\n",
       "      <td>325000.0</td>\n",
       "      <td>700000.0</td>\n",
       "      <td>1600000.0</td>\n",
       "      <td>21000000.0</td>\n",
       "      <td>1275000.0</td>\n",
       "    </tr>\n",
       "    <tr>\n",
       "      <th>PAC</th>\n",
       "      <td>1932.0</td>\n",
       "      <td>68.0</td>\n",
       "      <td>11.0</td>\n",
       "      <td>25.0</td>\n",
       "      <td>62.0</td>\n",
       "      <td>69.0</td>\n",
       "      <td>75.0</td>\n",
       "      <td>94.0</td>\n",
       "      <td>13.0</td>\n",
       "    </tr>\n",
       "    <tr>\n",
       "      <th>SHO</th>\n",
       "      <td>1932.0</td>\n",
       "      <td>65.0</td>\n",
       "      <td>7.0</td>\n",
       "      <td>38.0</td>\n",
       "      <td>60.0</td>\n",
       "      <td>65.0</td>\n",
       "      <td>70.0</td>\n",
       "      <td>88.0</td>\n",
       "      <td>10.0</td>\n",
       "    </tr>\n",
       "    <tr>\n",
       "      <th>PAS</th>\n",
       "      <td>1932.0</td>\n",
       "      <td>52.0</td>\n",
       "      <td>9.0</td>\n",
       "      <td>30.0</td>\n",
       "      <td>46.0</td>\n",
       "      <td>52.0</td>\n",
       "      <td>58.0</td>\n",
       "      <td>84.0</td>\n",
       "      <td>12.0</td>\n",
       "    </tr>\n",
       "    <tr>\n",
       "      <th>DRI</th>\n",
       "      <td>1932.0</td>\n",
       "      <td>64.0</td>\n",
       "      <td>7.0</td>\n",
       "      <td>43.0</td>\n",
       "      <td>59.0</td>\n",
       "      <td>64.0</td>\n",
       "      <td>68.0</td>\n",
       "      <td>89.0</td>\n",
       "      <td>9.0</td>\n",
       "    </tr>\n",
       "    <tr>\n",
       "      <th>DEF</th>\n",
       "      <td>1932.0</td>\n",
       "      <td>29.0</td>\n",
       "      <td>7.0</td>\n",
       "      <td>15.0</td>\n",
       "      <td>24.0</td>\n",
       "      <td>28.0</td>\n",
       "      <td>34.0</td>\n",
       "      <td>64.0</td>\n",
       "      <td>10.0</td>\n",
       "    </tr>\n",
       "    <tr>\n",
       "      <th>PHY</th>\n",
       "      <td>1932.0</td>\n",
       "      <td>64.0</td>\n",
       "      <td>10.0</td>\n",
       "      <td>28.0</td>\n",
       "      <td>58.0</td>\n",
       "      <td>66.0</td>\n",
       "      <td>72.0</td>\n",
       "      <td>85.0</td>\n",
       "      <td>14.0</td>\n",
       "    </tr>\n",
       "  </tbody>\n",
       "</table>\n",
       "</div>"
      ],
      "text/plain": [
       "        count       mean        std   min       25%       50%        75%  \\\n",
       "Age    1932.0       25.0        5.0  16.0      21.0      24.0       29.0   \n",
       "Wage   1932.0     6833.0     8861.0   0.0    1000.0    3000.0     8000.0   \n",
       "IR     1932.0        1.0        0.0   1.0       1.0       1.0        1.0   \n",
       "Value  1932.0  1701297.0  2718976.0   0.0  325000.0  700000.0  1600000.0   \n",
       "PAC    1932.0       68.0       11.0  25.0      62.0      69.0       75.0   \n",
       "SHO    1932.0       65.0        7.0  38.0      60.0      65.0       70.0   \n",
       "PAS    1932.0       52.0        9.0  30.0      46.0      52.0       58.0   \n",
       "DRI    1932.0       64.0        7.0  43.0      59.0      64.0       68.0   \n",
       "DEF    1932.0       29.0        7.0  15.0      24.0      28.0       34.0   \n",
       "PHY    1932.0       64.0       10.0  28.0      58.0      66.0       72.0   \n",
       "\n",
       "              max        iqr  \n",
       "Age          53.0        8.0  \n",
       "Wage      43000.0     7000.0  \n",
       "IR            5.0        0.0  \n",
       "Value  21000000.0  1275000.0  \n",
       "PAC          94.0       13.0  \n",
       "SHO          88.0       10.0  \n",
       "PAS          84.0       12.0  \n",
       "DRI          89.0        9.0  \n",
       "DEF          64.0       10.0  \n",
       "PHY          85.0       14.0  "
      ]
     },
     "execution_count": 32,
     "metadata": {},
     "output_type": "execute_result"
    }
   ],
   "source": [
    "summary = df_rank.describe().T\n",
    "summary['iqr'] = summary['75%']-summary['25%']\n",
    "summary = summary.apply(round)\n",
    "summary"
   ]
  },
  {
   "cell_type": "code",
   "execution_count": 33,
   "id": "9fcba381",
   "metadata": {},
   "outputs": [
    {
     "data": {
      "text/html": [
       "<div>\n",
       "<style scoped>\n",
       "    .dataframe tbody tr th:only-of-type {\n",
       "        vertical-align: middle;\n",
       "    }\n",
       "\n",
       "    .dataframe tbody tr th {\n",
       "        vertical-align: top;\n",
       "    }\n",
       "\n",
       "    .dataframe thead th {\n",
       "        text-align: right;\n",
       "    }\n",
       "</style>\n",
       "<table border=\"1\" class=\"dataframe\">\n",
       "  <thead>\n",
       "    <tr style=\"text-align: right;\">\n",
       "      <th></th>\n",
       "      <th>Age</th>\n",
       "      <th>Wage</th>\n",
       "      <th>IR</th>\n",
       "      <th>Value</th>\n",
       "      <th>PAC</th>\n",
       "      <th>SHO</th>\n",
       "      <th>PAS</th>\n",
       "      <th>DRI</th>\n",
       "      <th>DEF</th>\n",
       "      <th>PHY</th>\n",
       "    </tr>\n",
       "    <tr>\n",
       "      <th>ID</th>\n",
       "      <th></th>\n",
       "      <th></th>\n",
       "      <th></th>\n",
       "      <th></th>\n",
       "      <th></th>\n",
       "      <th></th>\n",
       "      <th></th>\n",
       "      <th></th>\n",
       "      <th></th>\n",
       "      <th></th>\n",
       "    </tr>\n",
       "  </thead>\n",
       "  <tbody>\n",
       "    <tr>\n",
       "      <th>330</th>\n",
       "      <td>35</td>\n",
       "      <td>10000</td>\n",
       "      <td>2</td>\n",
       "      <td>5500000</td>\n",
       "      <td>68</td>\n",
       "      <td>82</td>\n",
       "      <td>75</td>\n",
       "      <td>82</td>\n",
       "      <td>31</td>\n",
       "      <td>69</td>\n",
       "    </tr>\n",
       "    <tr>\n",
       "      <th>1198</th>\n",
       "      <td>37</td>\n",
       "      <td>15000</td>\n",
       "      <td>3</td>\n",
       "      <td>350000</td>\n",
       "      <td>52</td>\n",
       "      <td>72</td>\n",
       "      <td>49</td>\n",
       "      <td>57</td>\n",
       "      <td>20</td>\n",
       "      <td>35</td>\n",
       "    </tr>\n",
       "    <tr>\n",
       "      <th>1845</th>\n",
       "      <td>34</td>\n",
       "      <td>0</td>\n",
       "      <td>2</td>\n",
       "      <td>0</td>\n",
       "      <td>64</td>\n",
       "      <td>78</td>\n",
       "      <td>62</td>\n",
       "      <td>75</td>\n",
       "      <td>41</td>\n",
       "      <td>57</td>\n",
       "    </tr>\n",
       "    <tr>\n",
       "      <th>3467</th>\n",
       "      <td>37</td>\n",
       "      <td>6000</td>\n",
       "      <td>1</td>\n",
       "      <td>850000</td>\n",
       "      <td>66</td>\n",
       "      <td>74</td>\n",
       "      <td>59</td>\n",
       "      <td>69</td>\n",
       "      <td>35</td>\n",
       "      <td>69</td>\n",
       "    </tr>\n",
       "    <tr>\n",
       "      <th>5589</th>\n",
       "      <td>35</td>\n",
       "      <td>0</td>\n",
       "      <td>5</td>\n",
       "      <td>0</td>\n",
       "      <td>74</td>\n",
       "      <td>77</td>\n",
       "      <td>82</td>\n",
       "      <td>81</td>\n",
       "      <td>46</td>\n",
       "      <td>70</td>\n",
       "    </tr>\n",
       "  </tbody>\n",
       "</table>\n",
       "</div>"
      ],
      "text/plain": [
       "      Age   Wage  IR    Value  PAC  SHO  PAS  DRI  DEF  PHY\n",
       "ID                                                         \n",
       "330    35  10000   2  5500000   68   82   75   82   31   69\n",
       "1198   37  15000   3   350000   52   72   49   57   20   35\n",
       "1845   34      0   2        0   64   78   62   75   41   57\n",
       "3467   37   6000   1   850000   66   74   59   69   35   69\n",
       "5589   35      0   5        0   74   77   82   81   46   70"
      ]
     },
     "execution_count": 33,
     "metadata": {},
     "output_type": "execute_result"
    }
   ],
   "source": [
    "num = df_rank.select_dtypes(np.number)\n",
    "num.head()"
   ]
  },
  {
   "cell_type": "code",
   "execution_count": 34,
   "id": "50116b1d",
   "metadata": {},
   "outputs": [
    {
     "data": {
      "image/png": "[encoded data removed]",
      "text/plain": [
       "<Figure size 640x480 with 1 Axes>"
      ]
     },
     "metadata": {},
     "output_type": "display_data"
    },
    {
     "data": {
      "image/png": "[encoded data removed]",
      "text/plain": [
       "<Figure size 640x480 with 1 Axes>"
      ]
     },
     "metadata": {},
     "output_type": "display_data"
    },
    {
     "data": {
      "image/png": "[encoded data removed]",
      "text/plain": [
       "<Figure size 640x480 with 1 Axes>"
      ]
     },
     "metadata": {},
     "output_type": "display_data"
    },
    {
     "data": {
      "image/png": "[encoded data removed]",
      "text/plain": [
       "<Figure size 640x480 with 1 Axes>"
      ]
     },
     "metadata": {},
     "output_type": "display_data"
    },
    {
     "data": {
      "image/png": "[encoded data removed]",
      "text/plain": [
       "<Figure size 640x480 with 1 Axes>"
      ]
     },
     "metadata": {},
     "output_type": "display_data"
    },
    {
     "data": {
      "image/png": "[encoded data removed]",
      "text/plain": [
       "<Figure size 640x480 with 1 Axes>"
      ]
     },
     "metadata": {},
     "output_type": "display_data"
    },
    {
     "data": {
      "image/png": "[encoded data removed]",
      "text/plain": [
       "<Figure size 640x480 with 1 Axes>"
      ]
     },
     "metadata": {},
     "output_type": "display_data"
    },
    {
     "data": {
      "image/png": "[encoded data removed]",
      "text/plain": [
       "<Figure size 640x480 with 1 Axes>"
      ]
     },
     "metadata": {},
     "output_type": "display_data"
    },
    {
     "data": {
      "image/png": "[encoded data removed]",
      "text/plain": [
       "<Figure size 640x480 with 1 Axes>"
      ]
     },
     "metadata": {},
     "output_type": "display_data"
    },
    {
     "data": {
      "image/png": "[encoded data removed]",
      "text/plain": [
       "<Figure size 640x480 with 1 Axes>"
      ]
     },
     "metadata": {},
     "output_type": "display_data"
    }
   ],
   "source": [
    "for column in num.columns: # I keep the values since the distribution looks rather normal. Maybe after running it once I apply a transformation.\n",
    "    sns.distplot(num[column])\n",
    "    plt.show()"
   ]
  },
  {
   "cell_type": "code",
   "execution_count": 35,
   "id": "b12bb551",
   "metadata": {},
   "outputs": [
    {
     "data": {
      "text/html": [
       "<div>\n",
       "<style scoped>\n",
       "    .dataframe tbody tr th:only-of-type {\n",
       "        vertical-align: middle;\n",
       "    }\n",
       "\n",
       "    .dataframe tbody tr th {\n",
       "        vertical-align: top;\n",
       "    }\n",
       "\n",
       "    .dataframe thead th {\n",
       "        text-align: right;\n",
       "    }\n",
       "</style>\n",
       "<table border=\"1\" class=\"dataframe\">\n",
       "  <thead>\n",
       "    <tr style=\"text-align: right;\">\n",
       "      <th></th>\n",
       "      <th>Age</th>\n",
       "      <th>Wage</th>\n",
       "      <th>IR</th>\n",
       "      <th>Value</th>\n",
       "      <th>PAC</th>\n",
       "      <th>SHO</th>\n",
       "      <th>PAS</th>\n",
       "      <th>DRI</th>\n",
       "      <th>DEF</th>\n",
       "      <th>PHY</th>\n",
       "    </tr>\n",
       "  </thead>\n",
       "  <tbody>\n",
       "    <tr>\n",
       "      <th>Age</th>\n",
       "      <td>1.00</td>\n",
       "      <td>0.32</td>\n",
       "      <td>0.44</td>\n",
       "      <td>0.18</td>\n",
       "      <td>-0.26</td>\n",
       "      <td>0.61</td>\n",
       "      <td>0.51</td>\n",
       "      <td>0.35</td>\n",
       "      <td>0.45</td>\n",
       "      <td>0.53</td>\n",
       "    </tr>\n",
       "    <tr>\n",
       "      <th>Wage</th>\n",
       "      <td>0.32</td>\n",
       "      <td>1.00</td>\n",
       "      <td>0.30</td>\n",
       "      <td>0.68</td>\n",
       "      <td>0.03</td>\n",
       "      <td>0.62</td>\n",
       "      <td>0.51</td>\n",
       "      <td>0.52</td>\n",
       "      <td>0.34</td>\n",
       "      <td>0.35</td>\n",
       "    </tr>\n",
       "    <tr>\n",
       "      <th>IR</th>\n",
       "      <td>0.44</td>\n",
       "      <td>0.30</td>\n",
       "      <td>1.00</td>\n",
       "      <td>0.27</td>\n",
       "      <td>-0.14</td>\n",
       "      <td>0.42</td>\n",
       "      <td>0.43</td>\n",
       "      <td>0.33</td>\n",
       "      <td>0.26</td>\n",
       "      <td>0.17</td>\n",
       "    </tr>\n",
       "    <tr>\n",
       "      <th>Value</th>\n",
       "      <td>0.18</td>\n",
       "      <td>0.68</td>\n",
       "      <td>0.27</td>\n",
       "      <td>1.00</td>\n",
       "      <td>0.17</td>\n",
       "      <td>0.63</td>\n",
       "      <td>0.52</td>\n",
       "      <td>0.60</td>\n",
       "      <td>0.32</td>\n",
       "      <td>0.33</td>\n",
       "    </tr>\n",
       "    <tr>\n",
       "      <th>PAC</th>\n",
       "      <td>-0.26</td>\n",
       "      <td>0.03</td>\n",
       "      <td>-0.14</td>\n",
       "      <td>0.17</td>\n",
       "      <td>1.00</td>\n",
       "      <td>-0.08</td>\n",
       "      <td>0.14</td>\n",
       "      <td>0.38</td>\n",
       "      <td>-0.02</td>\n",
       "      <td>-0.13</td>\n",
       "    </tr>\n",
       "    <tr>\n",
       "      <th>SHO</th>\n",
       "      <td>0.61</td>\n",
       "      <td>0.62</td>\n",
       "      <td>0.42</td>\n",
       "      <td>0.63</td>\n",
       "      <td>-0.08</td>\n",
       "      <td>1.00</td>\n",
       "      <td>0.66</td>\n",
       "      <td>0.68</td>\n",
       "      <td>0.42</td>\n",
       "      <td>0.59</td>\n",
       "    </tr>\n",
       "    <tr>\n",
       "      <th>PAS</th>\n",
       "      <td>0.51</td>\n",
       "      <td>0.51</td>\n",
       "      <td>0.43</td>\n",
       "      <td>0.52</td>\n",
       "      <td>0.14</td>\n",
       "      <td>0.66</td>\n",
       "      <td>1.00</td>\n",
       "      <td>0.79</td>\n",
       "      <td>0.56</td>\n",
       "      <td>0.31</td>\n",
       "    </tr>\n",
       "    <tr>\n",
       "      <th>DRI</th>\n",
       "      <td>0.35</td>\n",
       "      <td>0.52</td>\n",
       "      <td>0.33</td>\n",
       "      <td>0.60</td>\n",
       "      <td>0.38</td>\n",
       "      <td>0.68</td>\n",
       "      <td>0.79</td>\n",
       "      <td>1.00</td>\n",
       "      <td>0.40</td>\n",
       "      <td>0.25</td>\n",
       "    </tr>\n",
       "    <tr>\n",
       "      <th>DEF</th>\n",
       "      <td>0.45</td>\n",
       "      <td>0.34</td>\n",
       "      <td>0.26</td>\n",
       "      <td>0.32</td>\n",
       "      <td>-0.02</td>\n",
       "      <td>0.42</td>\n",
       "      <td>0.56</td>\n",
       "      <td>0.40</td>\n",
       "      <td>1.00</td>\n",
       "      <td>0.46</td>\n",
       "    </tr>\n",
       "    <tr>\n",
       "      <th>PHY</th>\n",
       "      <td>0.53</td>\n",
       "      <td>0.35</td>\n",
       "      <td>0.17</td>\n",
       "      <td>0.33</td>\n",
       "      <td>-0.13</td>\n",
       "      <td>0.59</td>\n",
       "      <td>0.31</td>\n",
       "      <td>0.25</td>\n",
       "      <td>0.46</td>\n",
       "      <td>1.00</td>\n",
       "    </tr>\n",
       "  </tbody>\n",
       "</table>\n",
       "</div>"
      ],
      "text/plain": [
       "        Age  Wage    IR  Value   PAC   SHO   PAS   DRI   DEF   PHY\n",
       "Age    1.00  0.32  0.44   0.18 -0.26  0.61  0.51  0.35  0.45  0.53\n",
       "Wage   0.32  1.00  0.30   0.68  0.03  0.62  0.51  0.52  0.34  0.35\n",
       "IR     0.44  0.30  1.00   0.27 -0.14  0.42  0.43  0.33  0.26  0.17\n",
       "Value  0.18  0.68  0.27   1.00  0.17  0.63  0.52  0.60  0.32  0.33\n",
       "PAC   -0.26  0.03 -0.14   0.17  1.00 -0.08  0.14  0.38 -0.02 -0.13\n",
       "SHO    0.61  0.62  0.42   0.63 -0.08  1.00  0.66  0.68  0.42  0.59\n",
       "PAS    0.51  0.51  0.43   0.52  0.14  0.66  1.00  0.79  0.56  0.31\n",
       "DRI    0.35  0.52  0.33   0.60  0.38  0.68  0.79  1.00  0.40  0.25\n",
       "DEF    0.45  0.34  0.26   0.32 -0.02  0.42  0.56  0.40  1.00  0.46\n",
       "PHY    0.53  0.35  0.17   0.33 -0.13  0.59  0.31  0.25  0.46  1.00"
      ]
     },
     "execution_count": 35,
     "metadata": {},
     "output_type": "execute_result"
    }
   ],
   "source": [
    "round(num.corr(),2) # To check correlations. They all look important in relation to the target value. There's little multicollinearity (no correlation higher than 0.9, but one higher than 0.75). "
   ]
  },
  {
   "cell_type": "code",
   "execution_count": 36,
   "id": "835f725e",
   "metadata": {},
   "outputs": [],
   "source": [
    "# I remove passing, since dribbling has a correlation with it and shows a slightly higher one with the target.\n",
    "num.drop('PAS', axis=1, inplace=True)"
   ]
  },
  {
   "cell_type": "code",
   "execution_count": 37,
   "id": "f7d702aa",
   "metadata": {},
   "outputs": [
    {
     "data": {
      "text/plain": [
       "715"
      ]
     },
     "execution_count": 37,
     "metadata": {},
     "output_type": "execute_result"
    }
   ],
   "source": [
    "df_rank.Club.nunique()"
   ]
  },
  {
   "cell_type": "code",
   "execution_count": 38,
   "id": "d0699454",
   "metadata": {},
   "outputs": [
    {
     "data": {
      "text/plain": [
       "1932"
      ]
     },
     "execution_count": 38,
     "metadata": {},
     "output_type": "execute_result"
    }
   ],
   "source": [
    "len(df_rank)"
   ]
  },
  {
   "cell_type": "code",
   "execution_count": 69,
   "id": "bdd3b690",
   "metadata": {},
   "outputs": [],
   "source": [
    "df_rank.to_csv('df_processed.csv')"
   ]
  },
  {
   "cell_type": "code",
   "execution_count": 70,
   "id": "90308c47",
   "metadata": {},
   "outputs": [],
   "source": [
    "# I don't want to encode the column 'Club' because there are too many different clubs in comparison to players I'm comparing for it to have any real impact on the prediction.\n",
    "# I also don't want to encode the 'Name'.\n",
    "cat = df_rank[['Position']] \n",
    "cat_dumm = pd.get_dummies(cat, drop_first=True)"
   ]
  },
  {
   "cell_type": "code",
   "execution_count": 87,
   "id": "42be208f",
   "metadata": {},
   "outputs": [
    {
     "data": {
      "text/html": [
       "<div>\n",
       "<style scoped>\n",
       "    .dataframe tbody tr th:only-of-type {\n",
       "        vertical-align: middle;\n",
       "    }\n",
       "\n",
       "    .dataframe tbody tr th {\n",
       "        vertical-align: top;\n",
       "    }\n",
       "\n",
       "    .dataframe thead th {\n",
       "        text-align: right;\n",
       "    }\n",
       "</style>\n",
       "<table border=\"1\" class=\"dataframe\">\n",
       "  <thead>\n",
       "    <tr style=\"text-align: right;\">\n",
       "      <th></th>\n",
       "      <th>Name</th>\n",
       "      <th>Club</th>\n",
       "      <th>Position_LW</th>\n",
       "      <th>Position_RW</th>\n",
       "      <th>Position_ST</th>\n",
       "      <th>Age</th>\n",
       "      <th>Wage</th>\n",
       "      <th>IR</th>\n",
       "      <th>Value</th>\n",
       "      <th>PAC</th>\n",
       "      <th>SHO</th>\n",
       "      <th>DRI</th>\n",
       "      <th>DEF</th>\n",
       "      <th>PHY</th>\n",
       "    </tr>\n",
       "    <tr>\n",
       "      <th>ID</th>\n",
       "      <th></th>\n",
       "      <th></th>\n",
       "      <th></th>\n",
       "      <th></th>\n",
       "      <th></th>\n",
       "      <th></th>\n",
       "      <th></th>\n",
       "      <th></th>\n",
       "      <th></th>\n",
       "      <th></th>\n",
       "      <th></th>\n",
       "      <th></th>\n",
       "      <th></th>\n",
       "      <th></th>\n",
       "    </tr>\n",
       "  </thead>\n",
       "  <tbody>\n",
       "    <tr>\n",
       "      <th>330</th>\n",
       "      <td>R. Keane</td>\n",
       "      <td>LA Galaxy</td>\n",
       "      <td>0</td>\n",
       "      <td>0</td>\n",
       "      <td>1</td>\n",
       "      <td>35</td>\n",
       "      <td>10000</td>\n",
       "      <td>2</td>\n",
       "      <td>5500000</td>\n",
       "      <td>68</td>\n",
       "      <td>82</td>\n",
       "      <td>82</td>\n",
       "      <td>31</td>\n",
       "      <td>69</td>\n",
       "    </tr>\n",
       "    <tr>\n",
       "      <th>1198</th>\n",
       "      <td>F. Inzaghi</td>\n",
       "      <td>Milan</td>\n",
       "      <td>0</td>\n",
       "      <td>0</td>\n",
       "      <td>1</td>\n",
       "      <td>37</td>\n",
       "      <td>15000</td>\n",
       "      <td>3</td>\n",
       "      <td>350000</td>\n",
       "      <td>52</td>\n",
       "      <td>72</td>\n",
       "      <td>57</td>\n",
       "      <td>20</td>\n",
       "      <td>35</td>\n",
       "    </tr>\n",
       "    <tr>\n",
       "      <th>1845</th>\n",
       "      <td>O. Solskjær</td>\n",
       "      <td>Manchester United</td>\n",
       "      <td>0</td>\n",
       "      <td>0</td>\n",
       "      <td>1</td>\n",
       "      <td>34</td>\n",
       "      <td>0</td>\n",
       "      <td>2</td>\n",
       "      <td>0</td>\n",
       "      <td>64</td>\n",
       "      <td>78</td>\n",
       "      <td>75</td>\n",
       "      <td>41</td>\n",
       "      <td>57</td>\n",
       "    </tr>\n",
       "    <tr>\n",
       "      <th>3467</th>\n",
       "      <td>Yuri</td>\n",
       "      <td>SD Ponferradina</td>\n",
       "      <td>0</td>\n",
       "      <td>0</td>\n",
       "      <td>1</td>\n",
       "      <td>37</td>\n",
       "      <td>6000</td>\n",
       "      <td>1</td>\n",
       "      <td>850000</td>\n",
       "      <td>66</td>\n",
       "      <td>74</td>\n",
       "      <td>69</td>\n",
       "      <td>35</td>\n",
       "      <td>69</td>\n",
       "    </tr>\n",
       "    <tr>\n",
       "      <th>5589</th>\n",
       "      <td>Figo</td>\n",
       "      <td>Inter</td>\n",
       "      <td>0</td>\n",
       "      <td>1</td>\n",
       "      <td>0</td>\n",
       "      <td>35</td>\n",
       "      <td>0</td>\n",
       "      <td>5</td>\n",
       "      <td>0</td>\n",
       "      <td>74</td>\n",
       "      <td>77</td>\n",
       "      <td>81</td>\n",
       "      <td>46</td>\n",
       "      <td>70</td>\n",
       "    </tr>\n",
       "  </tbody>\n",
       "</table>\n",
       "</div>"
      ],
      "text/plain": [
       "             Name               Club  Position_LW  Position_RW  Position_ST  \\\n",
       "ID                                                                            \n",
       "330      R. Keane          LA Galaxy            0            0            1   \n",
       "1198   F. Inzaghi              Milan            0            0            1   \n",
       "1845  O. Solskjær  Manchester United            0            0            1   \n",
       "3467         Yuri    SD Ponferradina            0            0            1   \n",
       "5589         Figo              Inter            0            1            0   \n",
       "\n",
       "      Age   Wage  IR    Value  PAC  SHO  DRI  DEF  PHY  \n",
       "ID                                                      \n",
       "330    35  10000   2  5500000   68   82   82   31   69  \n",
       "1198   37  15000   3   350000   52   72   57   20   35  \n",
       "1845   34      0   2        0   64   78   75   41   57  \n",
       "3467   37   6000   1   850000   66   74   69   35   69  \n",
       "5589   35      0   5        0   74   77   81   46   70  "
      ]
     },
     "execution_count": 87,
     "metadata": {},
     "output_type": "execute_result"
    }
   ],
   "source": [
    "df_rank_final = pd.concat([df_rank[['Name', 'Club']], cat_dumm, num], axis=1)\n",
    "df_rank_final.head()"
   ]
  },
  {
   "cell_type": "code",
   "execution_count": 88,
   "id": "0fd52bbc",
   "metadata": {},
   "outputs": [
    {
     "data": {
      "text/plain": [
       "1932"
      ]
     },
     "execution_count": 88,
     "metadata": {},
     "output_type": "execute_result"
    }
   ],
   "source": [
    "len(df_rank_final)"
   ]
  },
  {
   "cell_type": "code",
   "execution_count": 89,
   "id": "fa88495d",
   "metadata": {},
   "outputs": [],
   "source": [
    "# The first run showed very high values for RMSE, MSE and MAE. Probbaly due to the large range in 'Value' and 'Wage'. So I remove outliers and observe the difference in R2.\n",
    "def remove_outliers(df_rank_final, threshold=1.5, in_columns=df_rank_final.select_dtypes(np.number).columns, skip_columns=[]):\n",
    "    for column in in_columns:\n",
    "        if column not in skip_columns:\n",
    "            upper = np.percentile(df_rank_final[column],75)\n",
    "            lower = np.percentile(df_rank_final[column],25)\n",
    "            iqr = upper - lower\n",
    "            upper_limit = upper + threshold * iqr\n",
    "            lower_limit = lower - threshold * iqr\n",
    "            df_rank_final = df_rank_final[(df_rank_final[column]>lower_limit) & (df_rank_final[column]<upper_limit)]\n",
    "    return df_rank_final"
   ]
  },
  {
   "cell_type": "markdown",
   "id": "111a1461",
   "metadata": {},
   "source": [
    "### 4. Applying the Model."
   ]
  },
  {
   "cell_type": "code",
   "execution_count": 94,
   "id": "7ea98ca6",
   "metadata": {},
   "outputs": [],
   "source": [
    "y = df_rank_final['Value']\n",
    "X = df_rank_final.drop(['Value', 'Name', 'Club'],axis=1)"
   ]
  },
  {
   "cell_type": "code",
   "execution_count": 95,
   "id": "a62234de",
   "metadata": {},
   "outputs": [],
   "source": [
    "X_train, X_test, y_train, y_test = train_test_split(X, y, test_size=0.25, random_state=42) # Applying the train/test-split"
   ]
  },
  {
   "cell_type": "code",
   "execution_count": 104,
   "id": "a8202d4a",
   "metadata": {},
   "outputs": [
    {
     "data": {
      "text/plain": [
       "1449"
      ]
     },
     "execution_count": 104,
     "metadata": {},
     "output_type": "execute_result"
    }
   ],
   "source": [
    "len(X_train)"
   ]
  },
  {
   "cell_type": "code",
   "execution_count": 105,
   "id": "86d76ceb",
   "metadata": {},
   "outputs": [
    {
     "data": {
      "text/plain": [
       "483"
      ]
     },
     "execution_count": 105,
     "metadata": {},
     "output_type": "execute_result"
    }
   ],
   "source": [
    "len(X_test)"
   ]
  },
  {
   "cell_type": "code",
   "execution_count": 106,
   "id": "c10559d4",
   "metadata": {},
   "outputs": [
    {
     "data": {
      "text/plain": [
       "1449"
      ]
     },
     "execution_count": 106,
     "metadata": {},
     "output_type": "execute_result"
    }
   ],
   "source": [
    "len(y_train)"
   ]
  },
  {
   "cell_type": "code",
   "execution_count": 96,
   "id": "89c93e47",
   "metadata": {},
   "outputs": [
    {
     "data": {
      "text/plain": [
       "StandardScaler()"
      ]
     },
     "execution_count": 96,
     "metadata": {},
     "output_type": "execute_result"
    }
   ],
   "source": [
    "scaler = StandardScaler() # Standardizing also had no effect on the accuracy of the model.\n",
    "scaler.fit(X_train)"
   ]
  },
  {
   "cell_type": "code",
   "execution_count": 97,
   "id": "d0b4383d",
   "metadata": {},
   "outputs": [],
   "source": [
    "X_train_scaled = scaler.transform(X_train)"
   ]
  },
  {
   "cell_type": "code",
   "execution_count": 98,
   "id": "0fd9ea9b",
   "metadata": {},
   "outputs": [],
   "source": [
    "X_test_scaled = scaler.transform(X_test)"
   ]
  },
  {
   "cell_type": "code",
   "execution_count": 99,
   "id": "feaf4a5d",
   "metadata": {},
   "outputs": [
    {
     "data": {
      "text/plain": [
       "LinearRegression()"
      ]
     },
     "execution_count": 99,
     "metadata": {},
     "output_type": "execute_result"
    }
   ],
   "source": [
    "model = LinearRegression()\n",
    "model.fit(X_train,y_train)"
   ]
  },
  {
   "cell_type": "code",
   "execution_count": 100,
   "id": "8a1de592",
   "metadata": {},
   "outputs": [],
   "source": [
    "predictions = model.predict(X_test)"
   ]
  },
  {
   "cell_type": "code",
   "execution_count": 101,
   "id": "2f93adfe",
   "metadata": {},
   "outputs": [
    {
     "name": "stdout",
     "output_type": "stream",
     "text": [
      "R2 =  0.5888241193514832\n",
      "RMSE =  1766591.691649018\n",
      "MSE =  3120846205003.3394\n",
      "MAE =  1138864.6735251115\n"
     ]
    }
   ],
   "source": [
    "r2 = r2_score(y_test, predictions)\n",
    "RMSE = mean_squared_error(y_test, predictions, squared=False)\n",
    "MSE = mean_squared_error(y_test, predictions)\n",
    "MAE = mean_absolute_error(y_test, predictions)\n",
    "print(\"R2 = \", r2)\n",
    "print(\"RMSE = \", RMSE)\n",
    "print(\"MSE = \", MSE)\n",
    "print(\"MAE = \", MAE)"
   ]
  },
  {
   "cell_type": "code",
   "execution_count": 103,
   "id": "b6ad3dbc",
   "metadata": {},
   "outputs": [
    {
     "ename": "ValueError",
     "evalue": "Length of values (483) does not match length of index (1932)",
     "output_type": "error",
     "traceback": [
      "\u001b[0;31m---------------------------------------------------------------------------\u001b[0m",
      "\u001b[0;31mValueError\u001b[0m                                Traceback (most recent call last)",
      "\u001b[0;32m/var/folders/h0/s4l71pbx5dn720gdg7qdj1h80000gn/T/ipykernel_70543/1875027535.py\u001b[0m in \u001b[0;36m<module>\u001b[0;34m\u001b[0m\n\u001b[1;32m      1\u001b[0m \u001b[0mactual_value_df\u001b[0m \u001b[0;34m=\u001b[0m \u001b[0mdf_rank_final\u001b[0m\u001b[0;34m[\u001b[0m\u001b[0;34m[\u001b[0m\u001b[0;34m'Name'\u001b[0m\u001b[0;34m,\u001b[0m \u001b[0;34m'Club'\u001b[0m\u001b[0;34m,\u001b[0m \u001b[0;34m'Value'\u001b[0m\u001b[0;34m]\u001b[0m\u001b[0;34m]\u001b[0m\u001b[0;34m.\u001b[0m\u001b[0mreset_index\u001b[0m\u001b[0;34m(\u001b[0m\u001b[0mdrop\u001b[0m\u001b[0;34m=\u001b[0m\u001b[0;32mTrue\u001b[0m\u001b[0;34m)\u001b[0m \u001b[0;31m# Creating a df with name & actual market value.\u001b[0m\u001b[0;34m\u001b[0m\u001b[0;34m\u001b[0m\u001b[0m\n\u001b[0;32m----> 2\u001b[0;31m \u001b[0mactual_value_df\u001b[0m\u001b[0;34m[\u001b[0m\u001b[0;34m'Predicted Value'\u001b[0m\u001b[0;34m]\u001b[0m \u001b[0;34m=\u001b[0m \u001b[0mpredictions\u001b[0m \u001b[0;31m# Adding a new column with predicted market value.\u001b[0m\u001b[0;34m\u001b[0m\u001b[0;34m\u001b[0m\u001b[0m\n\u001b[0m\u001b[1;32m      3\u001b[0m \u001b[0mactual_value_df\u001b[0m \u001b[0;34m=\u001b[0m \u001b[0mactual_value_df\u001b[0m\u001b[0;34m.\u001b[0m\u001b[0msort_values\u001b[0m\u001b[0;34m(\u001b[0m\u001b[0mby\u001b[0m\u001b[0;34m=\u001b[0m\u001b[0;34m'Value'\u001b[0m\u001b[0;34m,\u001b[0m \u001b[0mascending\u001b[0m\u001b[0;34m=\u001b[0m\u001b[0;32mFalse\u001b[0m\u001b[0;34m)\u001b[0m\u001b[0;34m.\u001b[0m\u001b[0mreset_index\u001b[0m\u001b[0;34m(\u001b[0m\u001b[0mdrop\u001b[0m\u001b[0;34m=\u001b[0m\u001b[0;32mTrue\u001b[0m\u001b[0;34m)\u001b[0m \u001b[0;31m# Sorting the DataFrame by actual market value in descending order.\u001b[0m\u001b[0;34m\u001b[0m\u001b[0;34m\u001b[0m\u001b[0m\n\u001b[1;32m      4\u001b[0m \u001b[0;34m\u001b[0m\u001b[0m\n\u001b[1;32m      5\u001b[0m \u001b[0mprint\u001b[0m\u001b[0;34m(\u001b[0m\u001b[0mactual_value_df\u001b[0m\u001b[0;34m[\u001b[0m\u001b[0;34m[\u001b[0m\u001b[0;34m'Name'\u001b[0m\u001b[0;34m,\u001b[0m \u001b[0;34m'Club'\u001b[0m\u001b[0;34m,\u001b[0m \u001b[0;34m'Value'\u001b[0m\u001b[0;34m,\u001b[0m \u001b[0;34m'Predicted Value'\u001b[0m\u001b[0;34m]\u001b[0m\u001b[0;34m]\u001b[0m\u001b[0;34m.\u001b[0m\u001b[0mhead\u001b[0m\u001b[0;34m(\u001b[0m\u001b[0;36m10\u001b[0m\u001b[0;34m)\u001b[0m\u001b[0;34m)\u001b[0m \u001b[0;31m# Showing the top 10 players with their actual and predicted market value.\u001b[0m\u001b[0;34m\u001b[0m\u001b[0;34m\u001b[0m\u001b[0m\n",
      "\u001b[0;32m~/opt/anaconda3/lib/python3.9/site-packages/pandas/core/frame.py\u001b[0m in \u001b[0;36m__setitem__\u001b[0;34m(self, key, value)\u001b[0m\n\u001b[1;32m   3653\u001b[0m         \u001b[0;32melse\u001b[0m\u001b[0;34m:\u001b[0m\u001b[0;34m\u001b[0m\u001b[0;34m\u001b[0m\u001b[0m\n\u001b[1;32m   3654\u001b[0m             \u001b[0;31m# set column\u001b[0m\u001b[0;34m\u001b[0m\u001b[0;34m\u001b[0m\u001b[0m\n\u001b[0;32m-> 3655\u001b[0;31m             \u001b[0mself\u001b[0m\u001b[0;34m.\u001b[0m\u001b[0m_set_item\u001b[0m\u001b[0;34m(\u001b[0m\u001b[0mkey\u001b[0m\u001b[0;34m,\u001b[0m \u001b[0mvalue\u001b[0m\u001b[0;34m)\u001b[0m\u001b[0;34m\u001b[0m\u001b[0;34m\u001b[0m\u001b[0m\n\u001b[0m\u001b[1;32m   3656\u001b[0m \u001b[0;34m\u001b[0m\u001b[0m\n\u001b[1;32m   3657\u001b[0m     \u001b[0;32mdef\u001b[0m \u001b[0m_setitem_slice\u001b[0m\u001b[0;34m(\u001b[0m\u001b[0mself\u001b[0m\u001b[0;34m,\u001b[0m \u001b[0mkey\u001b[0m\u001b[0;34m:\u001b[0m \u001b[0mslice\u001b[0m\u001b[0;34m,\u001b[0m \u001b[0mvalue\u001b[0m\u001b[0;34m)\u001b[0m\u001b[0;34m:\u001b[0m\u001b[0;34m\u001b[0m\u001b[0;34m\u001b[0m\u001b[0m\n",
      "\u001b[0;32m~/opt/anaconda3/lib/python3.9/site-packages/pandas/core/frame.py\u001b[0m in \u001b[0;36m_set_item\u001b[0;34m(self, key, value)\u001b[0m\n\u001b[1;32m   3830\u001b[0m         \u001b[0mensure\u001b[0m \u001b[0mhomogeneity\u001b[0m\u001b[0;34m.\u001b[0m\u001b[0;34m\u001b[0m\u001b[0;34m\u001b[0m\u001b[0m\n\u001b[1;32m   3831\u001b[0m         \"\"\"\n\u001b[0;32m-> 3832\u001b[0;31m         \u001b[0mvalue\u001b[0m \u001b[0;34m=\u001b[0m \u001b[0mself\u001b[0m\u001b[0;34m.\u001b[0m\u001b[0m_sanitize_column\u001b[0m\u001b[0;34m(\u001b[0m\u001b[0mvalue\u001b[0m\u001b[0;34m)\u001b[0m\u001b[0;34m\u001b[0m\u001b[0;34m\u001b[0m\u001b[0m\n\u001b[0m\u001b[1;32m   3833\u001b[0m \u001b[0;34m\u001b[0m\u001b[0m\n\u001b[1;32m   3834\u001b[0m         if (\n",
      "\u001b[0;32m~/opt/anaconda3/lib/python3.9/site-packages/pandas/core/frame.py\u001b[0m in \u001b[0;36m_sanitize_column\u001b[0;34m(self, value)\u001b[0m\n\u001b[1;32m   4536\u001b[0m \u001b[0;34m\u001b[0m\u001b[0m\n\u001b[1;32m   4537\u001b[0m         \u001b[0;32mif\u001b[0m \u001b[0mis_list_like\u001b[0m\u001b[0;34m(\u001b[0m\u001b[0mvalue\u001b[0m\u001b[0;34m)\u001b[0m\u001b[0;34m:\u001b[0m\u001b[0;34m\u001b[0m\u001b[0;34m\u001b[0m\u001b[0m\n\u001b[0;32m-> 4538\u001b[0;31m             \u001b[0mcom\u001b[0m\u001b[0;34m.\u001b[0m\u001b[0mrequire_length_match\u001b[0m\u001b[0;34m(\u001b[0m\u001b[0mvalue\u001b[0m\u001b[0;34m,\u001b[0m \u001b[0mself\u001b[0m\u001b[0;34m.\u001b[0m\u001b[0mindex\u001b[0m\u001b[0;34m)\u001b[0m\u001b[0;34m\u001b[0m\u001b[0;34m\u001b[0m\u001b[0m\n\u001b[0m\u001b[1;32m   4539\u001b[0m         \u001b[0;32mreturn\u001b[0m \u001b[0msanitize_array\u001b[0m\u001b[0;34m(\u001b[0m\u001b[0mvalue\u001b[0m\u001b[0;34m,\u001b[0m \u001b[0mself\u001b[0m\u001b[0;34m.\u001b[0m\u001b[0mindex\u001b[0m\u001b[0;34m,\u001b[0m \u001b[0mcopy\u001b[0m\u001b[0;34m=\u001b[0m\u001b[0;32mTrue\u001b[0m\u001b[0;34m,\u001b[0m \u001b[0mallow_2d\u001b[0m\u001b[0;34m=\u001b[0m\u001b[0;32mTrue\u001b[0m\u001b[0;34m)\u001b[0m\u001b[0;34m\u001b[0m\u001b[0;34m\u001b[0m\u001b[0m\n\u001b[1;32m   4540\u001b[0m \u001b[0;34m\u001b[0m\u001b[0m\n",
      "\u001b[0;32m~/opt/anaconda3/lib/python3.9/site-packages/pandas/core/common.py\u001b[0m in \u001b[0;36mrequire_length_match\u001b[0;34m(data, index)\u001b[0m\n\u001b[1;32m    555\u001b[0m     \"\"\"\n\u001b[1;32m    556\u001b[0m     \u001b[0;32mif\u001b[0m \u001b[0mlen\u001b[0m\u001b[0;34m(\u001b[0m\u001b[0mdata\u001b[0m\u001b[0;34m)\u001b[0m \u001b[0;34m!=\u001b[0m \u001b[0mlen\u001b[0m\u001b[0;34m(\u001b[0m\u001b[0mindex\u001b[0m\u001b[0;34m)\u001b[0m\u001b[0;34m:\u001b[0m\u001b[0;34m\u001b[0m\u001b[0;34m\u001b[0m\u001b[0m\n\u001b[0;32m--> 557\u001b[0;31m         raise ValueError(\n\u001b[0m\u001b[1;32m    558\u001b[0m             \u001b[0;34m\"Length of values \"\u001b[0m\u001b[0;34m\u001b[0m\u001b[0;34m\u001b[0m\u001b[0m\n\u001b[1;32m    559\u001b[0m             \u001b[0;34mf\"({len(data)}) \"\u001b[0m\u001b[0;34m\u001b[0m\u001b[0;34m\u001b[0m\u001b[0m\n",
      "\u001b[0;31mValueError\u001b[0m: Length of values (483) does not match length of index (1932)"
     ]
    }
   ],
   "source": [
    "actual_value_df = df_rank_final[['Name', 'Club', 'Value']].reset_index(drop=True) # Creating a df with name & actual market value.\n",
    "actual_value_df['Predicted Value'] = predictions # Adding a new column with predicted market value.\n",
    "actual_value_df = actual_value_df.sort_values(by='Value', ascending=False).reset_index(drop=True) # Sorting the DataFrame by actual market value in descending order.\n",
    "\n",
    "print(actual_value_df[['Name', 'Club', 'Value', 'Predicted Value']].head(10)) # Showing the top 10 players with their actual and predicted market value."
   ]
  },
  {
   "cell_type": "code",
   "execution_count": null,
   "id": "575476ad",
   "metadata": {},
   "outputs": [],
   "source": []
  }
 ],
 "metadata": {
  "kernelspec": {
   "display_name": "Python 3 (ipykernel)",
   "language": "python",
   "name": "python3"
  },
  "language_info": {
   "codemirror_mode": {
    "name": "ipython",
    "version": 3
   },
   "file_extension": ".py",
   "mimetype": "text/x-python",
   "name": "python",
   "nbconvert_exporter": "python",
   "pygments_lexer": "ipython3",
   "version": "3.9.13"
  }
 },
 "nbformat": 4,
 "nbformat_minor": 5
}
